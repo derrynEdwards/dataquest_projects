{
 "cells": [
  {
   "cell_type": "markdown",
   "metadata": {},
   "source": [
    "# Profitable Apps Profile on Apple App Store and Google Play Markets\n",
    "The aim of this project is to find a mobile app profile that will be profitable in both the Apple App Store and the Google Play markets. In this project we will be analyzing a set of applications available in both markets in order to accomplish this objective. \n",
    "\n",
    "For this project, we will be taking the role of a data analyst and it is our job to help developers make data-driven decisions in respect to the new app to be built.\n",
    "\n",
    "Our company only builds apps that are free to download and install, directed to English speaking audience, having in-app ads being the main source of revenue. Having this in mind, the revenue of our new app will depend on the number of users that will be using our app. Considering all these points, the goal of this project is to analyze both markets data in order to help our developers understand what will be the best App Profile that will more likely attract more users."
   ]
  },
  {
   "cell_type": "markdown",
   "metadata": {},
   "source": [
    "## Opening and Exploring the Data\n",
    "As of the first quarter of 2020, Android users were able to choose between 2.56 million apps, making Google Play the app store with biggest number of available apps. Apple's App Store was the second-largest app store with almost 1.85 million available apps for iOS. - [Taken from statista](https://www.statista.com/statistics/276623/number-of-apps-available-in-leading-app-stores/)\n",
    "\n",
    "\n",
    "![](app_stores_stats-2020.png)\n",
    "\n",
    "Collecting data for over 4 million apps is time consuming and costly. For this project we will be using sample data sets that are available for free from the following links:\n",
    "- [Google Play Store](https://www.kaggle.com/lava18/google-play-store-apps) data set which contains over 10,000 apps and can be downloaded from [here](https://dq-content.s3.amazonaws.com/350/googleplaystore.csv).\n",
    "- [Apple App Store](https://www.kaggle.com/ramamet4/app-store-apple-data-set-10k-apps) data set which contains over 7,000 apps and can be downloaded from [here](https://dq-content.s3.amazonaws.com/350/AppleStore.csv). \n"
   ]
  },
  {
   "cell_type": "markdown",
   "metadata": {},
   "source": [
    "### Open data sets\n",
    "In the code below, we will open both data sets."
   ]
  },
  {
   "cell_type": "code",
   "execution_count": 1,
   "metadata": {},
   "outputs": [],
   "source": [
    "from csv import reader\n",
    "\n",
    "### Google Play Data ###\n",
    "android = list(reader(open(\"googleplaystore.csv\")))\n",
    "android_header = android[0]\n",
    "android = android[1:]\n",
    "\n",
    "### iOS App Store Data ###\n",
    "ios = list(reader(open(\"AppleStore.csv\")))\n",
    "ios_header = ios[0]\n",
    "ios = ios[1:]"
   ]
  },
  {
   "cell_type": "markdown",
   "metadata": {},
   "source": [
    "### Explore data sets\n",
    "We will now create a function that will help us explore the data sets in a user friendly readable way. We will be defining a function `explore_data()` that can be reusable all over our project."
   ]
  },
  {
   "cell_type": "code",
   "execution_count": 2,
   "metadata": {},
   "outputs": [
    {
     "output_type": "stream",
     "name": "stdout",
     "text": "Google Play Data:\n\n['App', 'Category', 'Rating', 'Reviews', 'Size', 'Installs', 'Type', 'Price', 'Content Rating', 'Genres', 'Last Updated', 'Current Ver', 'Android Ver']\n\n\n['Photo Editor & Candy Camera & Grid & ScrapBook', 'ART_AND_DESIGN', '4.1', '159', '19M', '10,000+', 'Free', '0', 'Everyone', 'Art & Design', 'January 7, 2018', '1.0.0', '4.0.3 and up']\n\n\n['Coloring book moana', 'ART_AND_DESIGN', '3.9', '967', '14M', '500,000+', 'Free', '0', 'Everyone', 'Art & Design;Pretend Play', 'January 15, 2018', '2.0.0', '4.0.3 and up']\n\n\n['U Launcher Lite – FREE Live Cool Themes, Hide Apps', 'ART_AND_DESIGN', '4.7', '87510', '8.7M', '5,000,000+', 'Free', '0', 'Everyone', 'Art & Design', 'August 1, 2018', '1.2.4', '4.0.3 and up']\n\n\n['Sketch - Draw & Paint', 'ART_AND_DESIGN', '4.5', '215644', '25M', '50,000,000+', 'Free', '0', 'Teen', 'Art & Design', 'June 8, 2018', 'Varies with device', '4.2 and up']\n\n\n['Pixel Draw - Number Art Coloring Book', 'ART_AND_DESIGN', '4.3', '967', '2.8M', '100,000+', 'Free', '0', 'Everyone', 'Art & Design;Creativity', 'June 20, 2018', '1.1', '4.4 and up']\n\n\nNumber of rows: 10841\nNumber of columns: 13\n"
    }
   ],
   "source": [
    "def explore_data(data_set, start=0, end=5, rows_and_columns=False):\n",
    "    \"\"\"\n",
    "        Print a slice of the data set in order to explore the data\n",
    "        in a readable way.\n",
    "        Inputs:\n",
    "            - data_set (list): List of lists containing the data set.\n",
    "            - start (int): Index position for starting the slice.\n",
    "            - end (int): Index position for ending the slice.\n",
    "            - rows_and_columns (bool): True for printing the number of rows and cols.\n",
    "    \"\"\"\n",
    "\n",
    "    dataset_slice = data_set[start:end]\n",
    "    for row in dataset_slice:\n",
    "        print(\"\\n\")\n",
    "        print(row)\n",
    "\n",
    "    if rows_and_columns:\n",
    "        print(\"\\n\")\n",
    "        print(\"Number of rows: {}\".format(len(data_set)))\n",
    "        print(\"Number of columns: {}\".format(len(data_set[0])))\n",
    "\n",
    "print(\"Google Play Data:\\n\")\n",
    "print(android_header)\n",
    "explore_data(android, rows_and_columns=True)"
   ]
  },
  {
   "cell_type": "markdown",
   "metadata": {},
   "source": [
    "We can see we have a total of 10,841 differents app from the Google Play data set. We can get a full description of each column from [here](https://www.kaggle.com/lava18/google-play-store-apps)\n",
    "\n",
    "| Column           | Description                                                                                                                                   |\n",
    "|------------------|-----------------------------------------------------------------------------------------------------------------------------------------------|\n",
    "| 'App'            | Application name                                                                                                                              |\n",
    "| 'Category'       | Category the app belongs to                                                                                                                   |\n",
    "| 'Rating'         | Overall user rating of the app (as when scraped)                                                                                              |\n",
    "| 'Reviews'        | Number of user reviews for the app (as when scraped)                                                                                          |\n",
    "| 'Size'           | Size of the app (as when scraped)                                                                                                             |\n",
    "| 'Installs'       | Number of user downloads/installs for the app (as when scraped)                                                                               |\n",
    "| 'Type'           | Paid or Free                                                                                                                                  |\n",
    "| 'Price'          | Price of the app (as when scraped)                                                                                                            |\n",
    "| 'Content Rating' | Age group the app is targeted at - Children / Mature 21+ / Adult                                                                              |\n",
    "| 'Genres'         | An app can belong to multiple genres (apart from its main category). For eg, a musical family game will belong to Music, Game, Family genres. |\n",
    "| 'Last Updated'   | Date of last update                                                                                                                           |\n",
    "| 'Current Ver'    | Current App Version                                                                                                                           |\n",
    "| 'Androud Ver'    | Supported Adnroid Version                                                                                                                     |\n",
    "\n",
    "From the columns descriptions above, we will be using the following columns that will help us achieve the goal of this project:\n",
    "- App\n",
    "- Category\n",
    "- Reviews\n",
    "- Size\n",
    "- Type\n",
    "- Price\n",
    "- Genres\n",
    "\n",
    "\n",
    "We will now explore the Apple App Store data set.\n"
   ]
  },
  {
   "cell_type": "code",
   "execution_count": 3,
   "metadata": {},
   "outputs": [
    {
     "output_type": "stream",
     "name": "stdout",
     "text": "Apple App Store Data:\n\n['', 'id', 'track_name', 'size_bytes', 'currency', 'price', 'rating_count_tot', 'rating_count_ver', 'user_rating', 'user_rating_ver', 'ver', 'cont_rating', 'prime_genre', 'sup_devices.num', 'ipadSc_urls.num', 'lang.num', 'vpp_lic']\n\n\n['1', '281656475', 'PAC-MAN Premium', '100788224', 'USD', '3.99', '21292', '26', '4', '4.5', '6.3.5', '4+', 'Games', '38', '5', '10', '1']\n\n\n['2', '281796108', 'Evernote - stay organized', '158578688', 'USD', '0', '161065', '26', '4', '3.5', '8.2.2', '4+', 'Productivity', '37', '5', '23', '1']\n\n\n['3', '281940292', 'WeatherBug - Local Weather, Radar, Maps, Alerts', '100524032', 'USD', '0', '188583', '2822', '3.5', '4.5', '5.0.0', '4+', 'Weather', '37', '5', '3', '1']\n\n\n['4', '282614216', 'eBay: Best App to Buy, Sell, Save! Online Shopping', '128512000', 'USD', '0', '262241', '649', '4', '4.5', '5.10.0', '12+', 'Shopping', '37', '5', '9', '1']\n\n\n['5', '282935706', 'Bible', '92774400', 'USD', '0', '985920', '5320', '4.5', '5', '7.5.1', '4+', 'Reference', '37', '5', '45', '1']\n\n\nNumber of rows: 7197\nNumber of columns: 17\n"
    }
   ],
   "source": [
    "print(\"Apple App Store Data:\\n\")\n",
    "print(ios_header)\n",
    "explore_data(ios, rows_and_columns=True)"
   ]
  },
  {
   "cell_type": "markdown",
   "metadata": {},
   "source": [
    "We have 7197 different apps in the Apple App Store data set, and we can get full descriptions of its columns [here](https://www.kaggle.com/ramamet4/app-store-apple-data-set-10k-apps).\n",
    "\n",
    "Columns:\n",
    "\n",
    "| Column name        | Description                                     |\n",
    "|--------------------|-------------------------------------------------|\n",
    "| \"id\"               | App ID                                          |\n",
    "| \"track_name\"       | App Name                                        |\n",
    "| \"size_bytes\"       | Size (in bytes)                                 |\n",
    "| \"currency\"         | Currency Type                                   |\n",
    "| \"price\"            | Price amount                                    |\n",
    "| \"rating_count_tot\" | User rating counts (for all version)            |\n",
    "| \"rating_count_ver\" | User Rating counts (for current version)        |\n",
    "| \"user_rating\"      | Average User Rating value (for all version)     |\n",
    "| \"user_rating_ver\"  | Average User Rating value (for current version) |\n",
    "| \"ver\"              | Latest version code                             |\n",
    "| \"cont_rating\"      | Content Rating                                  |\n",
    "| \"prime_genre\"      | Primary Genre                                   |\n",
    "| \"sup_devices.num\"  | Number of supporting devices                    |\n",
    "| \"ipadSc_urls.num\"  | Number of screenshots showed for display        |\n",
    "| \"lang.num\"         | Number of supported languages                   |\n",
    "| \"vpp_lic\"          | Vpp Device Based Licensing Enabled              |\n",
    "\n",
    "\n",
    "Columns of interest:\n",
    "- track_name\n",
    "- size_bytes\n",
    "- currency\n",
    "- price\n",
    "- rating_count_tot\n",
    "- rating_count_ver\n",
    "- prime_genre"
   ]
  },
  {
   "cell_type": "markdown",
   "metadata": {},
   "source": [
    "## Cleaning Up Data\n",
    "Like with every data set, we need to make sure our data is clean (duplicates and wrong data removed) before we start analysing it and drawing conclusions. When using data sets provided freely like ours from Kaggle, we can check their discussion sections in order to find comments that might point us to wrong data or incosistencies in the data set. Besides this method, we could also go ahead and check the data ourselves in order to find missing or inconsistent data.\n",
    "\n",
    "### Missing Data\n",
    "In order to ensure that all rows have the same amount of values as the number of columns, we will use the following code to achieve this:\n",
    "\n"
   ]
  },
  {
   "cell_type": "code",
   "execution_count": 4,
   "metadata": {},
   "outputs": [],
   "source": [
    "def check_row_length(dataset, header):\n",
    "    \"\"\"\n",
    "        Compares each row's length against the header length in order to find\n",
    "        data incosistencies. Prints the row and index number when found.\n",
    "        Inputs:\n",
    "            - dataset (list): List of lists containing the data set.\n",
    "            - header (list): List of columns from the original data set.\n",
    "    \"\"\"\n",
    "    header_length = len(header)\n",
    "    print(header)\n",
    "    for row in dataset:\n",
    "        if len(row) != header_length:\n",
    "            print(\"\\n\")\n",
    "            print(row)\n",
    "            print(\"Index: {}\".format(dataset.index(row)))"
   ]
  },
  {
   "cell_type": "markdown",
   "metadata": {},
   "source": [
    "We will now check the Google Play Store data set:"
   ]
  },
  {
   "cell_type": "code",
   "execution_count": 5,
   "metadata": {},
   "outputs": [
    {
     "output_type": "stream",
     "name": "stdout",
     "text": "['App', 'Category', 'Rating', 'Reviews', 'Size', 'Installs', 'Type', 'Price', 'Content Rating', 'Genres', 'Last Updated', 'Current Ver', 'Android Ver']\n\n\n['Life Made WI-Fi Touchscreen Photo Frame', '1.9', '19', '3.0M', '1,000+', 'Free', '0', 'Everyone', '', 'February 11, 2018', '1.0.19', '4.0 and up']\nIndex: 10472\n"
    }
   ],
   "source": [
    "check_row_length(android, android_header)"
   ]
  },
  {
   "cell_type": "markdown",
   "metadata": {},
   "source": [
    "After running our check, we can see that the Google Play Store data set contains one row which is missing a data point. We can right away see that it's missing the Category.\n",
    "\n",
    "We will now run the same function for the iOS App Store data set."
   ]
  },
  {
   "cell_type": "code",
   "execution_count": 6,
   "metadata": {},
   "outputs": [
    {
     "output_type": "stream",
     "name": "stdout",
     "text": "['', 'id', 'track_name', 'size_bytes', 'currency', 'price', 'rating_count_tot', 'rating_count_ver', 'user_rating', 'user_rating_ver', 'ver', 'cont_rating', 'prime_genre', 'sup_devices.num', 'ipadSc_urls.num', 'lang.num', 'vpp_lic']\n"
    }
   ],
   "source": [
    "check_row_length(ios, ios_header)"
   ]
  },
  {
   "cell_type": "markdown",
   "metadata": {},
   "source": [
    "No data incosistencies were found for the iOS App Store.\n",
    "\n",
    "### Fix the Missing Data\n",
    "We can take two different paths in order to fix this missing data found in the Google Play Store Data set:\n",
    "\n",
    "- Delete the row.\n",
    "- Research on the App and get the proper Category.\n",
    "\n",
    "If we search directly on the Google Play Store for the app `Life Made WI-Fi Touchscreen Photo Frame` we are able to see that it belongs to the `Lifestyle` Category.\n",
    "\n",
    "In the code below we will go ahead and replace the current row `10472` with the correct one.\n",
    "\n"
   ]
  },
  {
   "cell_type": "code",
   "execution_count": 7,
   "metadata": {},
   "outputs": [
    {
     "output_type": "stream",
     "name": "stdout",
     "text": "['App', 'Category', 'Rating', 'Reviews', 'Size', 'Installs', 'Type', 'Price', 'Content Rating', 'Genres', 'Last Updated', 'Current Ver', 'Android Ver']\n['Life Made WI-Fi Touchscreen Photo Frame', 'LIFESTYLE', '1.9', '19', '3.0M', '1,000+', 'Free', '0', 'Everyone', '', 'February 11, 2018', '1.0.19', '4.0 and up']\n"
    }
   ],
   "source": [
    "# ONLY RUN ONCE\n",
    "android[10472].insert(1, 'LIFESTYLE')\n",
    "print(android_header)\n",
    "print(android[10472])"
   ]
  },
  {
   "cell_type": "markdown",
   "metadata": {},
   "source": [
    "We can run our `check_row_length()` function over the Google Play Store data set again to ensure everything is now properly set."
   ]
  },
  {
   "cell_type": "code",
   "execution_count": 8,
   "metadata": {},
   "outputs": [
    {
     "output_type": "stream",
     "name": "stdout",
     "text": "['App', 'Category', 'Rating', 'Reviews', 'Size', 'Installs', 'Type', 'Price', 'Content Rating', 'Genres', 'Last Updated', 'Current Ver', 'Android Ver']\n"
    }
   ],
   "source": [
    "check_row_length(android, android_header)"
   ]
  },
  {
   "cell_type": "markdown",
   "metadata": {},
   "source": [
    "### Finding Duplicates\n",
    "We will now create a function that will check our data sets for duplicates, and then we will proceed to remove them.\n"
   ]
  },
  {
   "cell_type": "code",
   "execution_count": 9,
   "metadata": {
    "tags": [
     "outputPrepend"
    ]
   },
   "outputs": [
    {
     "output_type": "stream",
     "name": "stdout",
     "text": "Number of Duplicate Apps: 1181\nExample of Duplicate Apps:\n['Quick PDF Scanner + OCR FREE', 'Box', 'Google My Business', 'ZOOM Cloud Meetings', 'join.me - Simple Meetings', 'Box', 'Zenefits', 'Google Ads', 'Google My Business', 'Slack', 'FreshBooks Classic', 'Insightly CRM', 'QuickBooks Accounting: Invoicing & Expenses', 'HipChat - Chat Built for Teams', 'Xero Accounting Software']\n"
    }
   ],
   "source": [
    "def find_duplicates(dataset, name_index):\n",
    "    \"\"\"\n",
    "        Checks duplicates on dataset based on the index provided. Prints the lists of duplicates.\n",
    "\n",
    "        Inputs:\n",
    "            - dataset (list): list of lists which makes up the date set.\n",
    "            - name_index (int): index position to compare/look for duplicates.\n",
    "    \"\"\"\n",
    "    unique_apps = []\n",
    "    duplicate_apps = []\n",
    "\n",
    "    for app in dataset:\n",
    "        name = app[name_index]\n",
    "        if name in unique_apps:\n",
    "            duplicate_apps.append(name)\n",
    "        else:\n",
    "            unique_apps.append(name)\n",
    "\n",
    "    print(\"Number of Duplicate Apps: {}\".format(len(duplicate_apps)))\n",
    "    print(\"Example of Duplicate Apps:\\n{}\".format(duplicate_apps[:15]))\n",
    "\n",
    "# check against Google Play Store Data set.\n",
    "find_duplicates(android, 0)"
   ]
  },
  {
   "cell_type": "code",
   "execution_count": 10,
   "metadata": {},
   "outputs": [
    {
     "output_type": "stream",
     "name": "stdout",
     "text": "Number of Duplicate Apps: 0\nExample of Duplicate Apps:\n[]\n"
    }
   ],
   "source": [
    "find_duplicates(ios, 1)"
   ]
  },
  {
   "cell_type": "markdown",
   "metadata": {},
   "source": [
    "After running our `find_duplicates()` function, we are able to see that the Google Play Store data set containts 1181 duplicated apps. We will now build a function that removes these duplicate apps.\n",
    "\n",
    "Before we proceed, lets go ahead and check entries for one of these apps."
   ]
  },
  {
   "cell_type": "code",
   "execution_count": 11,
   "metadata": {},
   "outputs": [
    {
     "output_type": "stream",
     "name": "stdout",
     "text": "['App', 'Category', 'Rating', 'Reviews', 'Size', 'Installs', 'Type', 'Price', 'Content Rating', 'Genres', 'Last Updated', 'Current Ver', 'Android Ver']\n240 - ['Slack', 'BUSINESS', '4.4', '51507', 'Varies with device', '5,000,000+', 'Free', '0', 'Everyone', 'Business', 'August 2, 2018', 'Varies with device', 'Varies with device']\n269 - ['Slack', 'BUSINESS', '4.4', '51507', 'Varies with device', '5,000,000+', 'Free', '0', 'Everyone', 'Business', 'August 2, 2018', 'Varies with device', 'Varies with device']\n294 - ['Slack', 'BUSINESS', '4.4', '51510', 'Varies with device', '5,000,000+', 'Free', '0', 'Everyone', 'Business', 'August 2, 2018', 'Varies with device', 'Varies with device']\n"
    }
   ],
   "source": [
    "print(android_header)\n",
    "for index, value in enumerate(android):\n",
    "    if value[0] == 'Slack':\n",
    "        print(\"{} - {}\".format(index, android[index]))"
   ]
  },
  {
   "cell_type": "markdown",
   "metadata": {},
   "source": [
    "Based on the check we did with `Slack` app, we can see different numbers of reviews for each entry. Due to this, instead of randomly deleting the duplicated apps, we will check for the entry with highest reviews and delete the rest. \n",
    "\n",
    "We will start by creating a dictionary that contains each of the apps with their max amount of reviews. The code will check if the name is already in the new dictionary and if the number of reviews is greater than the one already existing in order to keep one instance of each app."
   ]
  },
  {
   "cell_type": "code",
   "execution_count": 12,
   "metadata": {},
   "outputs": [],
   "source": [
    "max_reviews = {}\n",
    "\n",
    "for app in android:\n",
    "    name = app[0]\n",
    "    n_reviews = float(app[3])\n",
    "\n",
    "    if name in max_reviews and max_reviews[name] < n_reviews:\n",
    "        max_reviews[name] = n_reviews\n",
    "    elif name not in max_reviews:\n",
    "        max_reviews[name] = n_reviews\n",
    "        "
   ]
  },
  {
   "cell_type": "markdown",
   "metadata": {},
   "source": [
    "When checking for duplicates, we found a total of 1,181 duplicated app. If we subtract this number from the total number of rows `10,841 - 1,181` we get a total of `9,660` unique apps from the Google Play Store data set. This means that the length of our new dictionary should equal `9,660`, and we will be checking this on the code cell below."
   ]
  },
  {
   "cell_type": "code",
   "execution_count": 13,
   "metadata": {},
   "outputs": [
    {
     "output_type": "stream",
     "name": "stdout",
     "text": "9660\n"
    }
   ],
   "source": [
    "# Check that length of new dictionary matches 9660\n",
    "print(len(max_reviews))"
   ]
  },
  {
   "cell_type": "markdown",
   "metadata": {},
   "source": [
    "Having this dictionary we can now go ahead and create a clean data set by remmoving the duplicates. In the code cell below, we will be creating a new list with the right amount of apps meanwhile we check and compare the number of reviews from our previous dictionary."
   ]
  },
  {
   "cell_type": "code",
   "execution_count": 14,
   "metadata": {},
   "outputs": [],
   "source": [
    "#Create new data set without duplicates\n",
    "new_android = []\n",
    "added_app = []\n",
    "\n",
    "for app in android:\n",
    "    name = app[0]\n",
    "    n_reviews = float(app[3])\n",
    "\n",
    "    if (max_reviews[name] == n_reviews) and (name not in added_app):\n",
    "       new_android.append(app)\n",
    "       added_app.append(name)"
   ]
  },
  {
   "cell_type": "markdown",
   "metadata": {},
   "source": [
    "We can now explore our new data set and check for duplicates."
   ]
  },
  {
   "cell_type": "code",
   "execution_count": 15,
   "metadata": {},
   "outputs": [
    {
     "output_type": "stream",
     "name": "stdout",
     "text": "Number of Duplicate Apps: 0\nExample of Duplicate Apps:\n[]\n\n\n['Photo Editor & Candy Camera & Grid & ScrapBook', 'ART_AND_DESIGN', '4.1', '159', '19M', '10,000+', 'Free', '0', 'Everyone', 'Art & Design', 'January 7, 2018', '1.0.0', '4.0.3 and up']\n\n\n['U Launcher Lite – FREE Live Cool Themes, Hide Apps', 'ART_AND_DESIGN', '4.7', '87510', '8.7M', '5,000,000+', 'Free', '0', 'Everyone', 'Art & Design', 'August 1, 2018', '1.2.4', '4.0.3 and up']\n\n\n['Sketch - Draw & Paint', 'ART_AND_DESIGN', '4.5', '215644', '25M', '50,000,000+', 'Free', '0', 'Teen', 'Art & Design', 'June 8, 2018', 'Varies with device', '4.2 and up']\n\n\n['Pixel Draw - Number Art Coloring Book', 'ART_AND_DESIGN', '4.3', '967', '2.8M', '100,000+', 'Free', '0', 'Everyone', 'Art & Design;Creativity', 'June 20, 2018', '1.1', '4.4 and up']\n\n\n['Paper flowers instructions', 'ART_AND_DESIGN', '4.4', '167', '5.6M', '50,000+', 'Free', '0', 'Everyone', 'Art & Design', 'March 26, 2017', '1.0', '2.3 and up']\n\n\nNumber of rows: 9660\nNumber of columns: 13\n"
    }
   ],
   "source": [
    "find_duplicates(new_android, 0)\n",
    "explore_data(new_android, 0, 5, True)"
   ]
  },
  {
   "cell_type": "markdown",
   "metadata": {},
   "source": [
    "We can now say that our new Google Play Store data set is clean from duplicates.\n",
    "\n",
    "### Removing non-English Apps.\n",
    "\n",
    "Based on our Project summary, we specified that our company only builds apps for English speaking audience, therefore, we need to check that our data sets contains only app profiles for english speakers. In order to accomplish this, we will be using the `ord()` function that gives us back the integer position of ASCII character. English has a range of 0 - 127, but we might be excluding special characters or emoji with this approach, therefore, in our code below we will check for English characters that has no more than 3 special characters in order to clean our data sets."
   ]
  },
  {
   "cell_type": "code",
   "execution_count": 16,
   "metadata": {},
   "outputs": [
    {
     "output_type": "stream",
     "name": "stdout",
     "text": "True\nFalse\nTrue\nTrue\n"
    }
   ],
   "source": [
    "def is_english(string):\n",
    "    non_ascii = 0\n",
    "\n",
    "    for char in string:\n",
    "        if ord(char) > 127:\n",
    "            non_ascii += 1\n",
    "\n",
    "    if non_ascii  > 3:\n",
    "        return False\n",
    "    else:\n",
    "        return True\n",
    "\n",
    "# Test function\n",
    "print(is_english('Instagram'))\n",
    "print(is_english('爱奇艺PPS -《欢乐颂2》电视剧热播'))\n",
    "print(is_english('™'))\n",
    "print(is_english('😜'))"
   ]
  },
  {
   "cell_type": "markdown",
   "metadata": {},
   "source": [
    "After testing our function, we can now go ahead and clean our data sets."
   ]
  },
  {
   "cell_type": "code",
   "execution_count": 17,
   "metadata": {},
   "outputs": [
    {
     "output_type": "stream",
     "name": "stdout",
     "text": "\n\n['Photo Editor & Candy Camera & Grid & ScrapBook', 'ART_AND_DESIGN', '4.1', '159', '19M', '10,000+', 'Free', '0', 'Everyone', 'Art & Design', 'January 7, 2018', '1.0.0', '4.0.3 and up']\n\n\n['U Launcher Lite – FREE Live Cool Themes, Hide Apps', 'ART_AND_DESIGN', '4.7', '87510', '8.7M', '5,000,000+', 'Free', '0', 'Everyone', 'Art & Design', 'August 1, 2018', '1.2.4', '4.0.3 and up']\n\n\n['Sketch - Draw & Paint', 'ART_AND_DESIGN', '4.5', '215644', '25M', '50,000,000+', 'Free', '0', 'Teen', 'Art & Design', 'June 8, 2018', 'Varies with device', '4.2 and up']\n\n\n['Pixel Draw - Number Art Coloring Book', 'ART_AND_DESIGN', '4.3', '967', '2.8M', '100,000+', 'Free', '0', 'Everyone', 'Art & Design;Creativity', 'June 20, 2018', '1.1', '4.4 and up']\n\n\n['Paper flowers instructions', 'ART_AND_DESIGN', '4.4', '167', '5.6M', '50,000+', 'Free', '0', 'Everyone', 'Art & Design', 'March 26, 2017', '1.0', '2.3 and up']\n\n\nNumber of rows: 9615\nNumber of columns: 13\n\n\n['1', '281656475', 'PAC-MAN Premium', '100788224', 'USD', '3.99', '21292', '26', '4', '4.5', '6.3.5', '4+', 'Games', '38', '5', '10', '1']\n\n\n['2', '281796108', 'Evernote - stay organized', '158578688', 'USD', '0', '161065', '26', '4', '3.5', '8.2.2', '4+', 'Productivity', '37', '5', '23', '1']\n\n\n['3', '281940292', 'WeatherBug - Local Weather, Radar, Maps, Alerts', '100524032', 'USD', '0', '188583', '2822', '3.5', '4.5', '5.0.0', '4+', 'Weather', '37', '5', '3', '1']\n\n\n['4', '282614216', 'eBay: Best App to Buy, Sell, Save! Online Shopping', '128512000', 'USD', '0', '262241', '649', '4', '4.5', '5.10.0', '12+', 'Shopping', '37', '5', '9', '1']\n\n\n['5', '282935706', 'Bible', '92774400', 'USD', '0', '985920', '5320', '4.5', '5', '7.5.1', '4+', 'Reference', '37', '5', '45', '1']\n\n\nNumber of rows: 6183\nNumber of columns: 17\n"
    }
   ],
   "source": [
    "android_english = []\n",
    "ios_english = []\n",
    "\n",
    "for app in new_android:\n",
    "    name = app[0]\n",
    "    if is_english(name):\n",
    "        android_english.append(app)\n",
    "\n",
    "for app in ios:\n",
    "    name = app[2]\n",
    "    if is_english(name):\n",
    "        ios_english.append(app)\n",
    "\n",
    "# Explore our data\n",
    "explore_data(android_english, rows_and_columns=True)\n",
    "explore_data(ios_english, rows_and_columns=True)"
   ]
  },
  {
   "cell_type": "markdown",
   "metadata": {},
   "source": [
    "We now have two data sets which is free of duplicates, data incosistencies and non-english app profiles.\n",
    "\n",
    "### Removing non-free apps.\n",
    "As mentioned in the project introduction, our company only creates free apps and our revenue is based on ads. We will now clean our data sets and keep only app profiles of Free apps. In the code below, we will check for the price and keep only the apps that have a price of `0`."
   ]
  },
  {
   "cell_type": "code",
   "execution_count": 18,
   "metadata": {},
   "outputs": [
    {
     "output_type": "stream",
     "name": "stdout",
     "text": "\n\n['Photo Editor & Candy Camera & Grid & ScrapBook', 'ART_AND_DESIGN', '4.1', '159', '19M', '10,000+', 'Free', '0', 'Everyone', 'Art & Design', 'January 7, 2018', '1.0.0', '4.0.3 and up']\n\n\n['U Launcher Lite – FREE Live Cool Themes, Hide Apps', 'ART_AND_DESIGN', '4.7', '87510', '8.7M', '5,000,000+', 'Free', '0', 'Everyone', 'Art & Design', 'August 1, 2018', '1.2.4', '4.0.3 and up']\n\n\n['Sketch - Draw & Paint', 'ART_AND_DESIGN', '4.5', '215644', '25M', '50,000,000+', 'Free', '0', 'Teen', 'Art & Design', 'June 8, 2018', 'Varies with device', '4.2 and up']\n\n\n['Pixel Draw - Number Art Coloring Book', 'ART_AND_DESIGN', '4.3', '967', '2.8M', '100,000+', 'Free', '0', 'Everyone', 'Art & Design;Creativity', 'June 20, 2018', '1.1', '4.4 and up']\n\n\n['Paper flowers instructions', 'ART_AND_DESIGN', '4.4', '167', '5.6M', '50,000+', 'Free', '0', 'Everyone', 'Art & Design', 'March 26, 2017', '1.0', '2.3 and up']\n\n\nNumber of rows: 8865\nNumber of columns: 13\n\n\n['2', '281796108', 'Evernote - stay organized', '158578688', 'USD', '0', '161065', '26', '4', '3.5', '8.2.2', '4+', 'Productivity', '37', '5', '23', '1']\n\n\n['3', '281940292', 'WeatherBug - Local Weather, Radar, Maps, Alerts', '100524032', 'USD', '0', '188583', '2822', '3.5', '4.5', '5.0.0', '4+', 'Weather', '37', '5', '3', '1']\n\n\n['4', '282614216', 'eBay: Best App to Buy, Sell, Save! Online Shopping', '128512000', 'USD', '0', '262241', '649', '4', '4.5', '5.10.0', '12+', 'Shopping', '37', '5', '9', '1']\n\n\n['5', '282935706', 'Bible', '92774400', 'USD', '0', '985920', '5320', '4.5', '5', '7.5.1', '4+', 'Reference', '37', '5', '45', '1']\n\n\n['7', '283646709', 'PayPal - Send and request money safely', '227795968', 'USD', '0', '119487', '879', '4', '4.5', '6.12.0', '4+', 'Finance', '37', '0', '19', '1']\n\n\nNumber of rows: 3222\nNumber of columns: 17\n"
    }
   ],
   "source": [
    "android_clean = []\n",
    "ios_clean = []\n",
    "\n",
    "# Isolate free apps.\n",
    "\n",
    "for app in android_english:\n",
    "    price = app[7]\n",
    "    if price == '0' or price == '0.0':\n",
    "        android_clean.append(app)\n",
    "\n",
    "for app in ios_english:\n",
    "    price = app[5]\n",
    "    if price == '0' or price == '0.0':\n",
    "        ios_clean.append(app)\n",
    "\n",
    "explore_data(android_clean, rows_and_columns=True)\n",
    "explore_data(ios_clean, rows_and_columns=True)"
   ]
  },
  {
   "cell_type": "markdown",
   "metadata": {},
   "source": [
    "We're left with __8865__ apps in our Google Play Store data set and __3222__ apps in our iOS App Store. We can now start analysis."
   ]
  },
  {
   "cell_type": "markdown",
   "metadata": {},
   "source": [
    "## Data Analysis\n",
    "As mentioned in the project introduction, we are trying to find an app profile that will be profitable in both Google Play Store and iOS App Store. Our app will be free and our revenue will be based on ads; meaning it should be popular with users.\n",
    "\n",
    "Validation Strategy:\n",
    "- Build a minimal Android version of the app, add it to Google Play Store.\n",
    "- If the app has a good response from users, we develop it further.\n",
    "- If the app is profitable after six months, we build an iOS version of the app and add it to the App Store.\n",
    "\n",
    "We will start our analysis by figuring out what is the most common genre from each market. For this, we will need to create frequency tables from our data sets. We will define a function that will build a frequency table and display it, in order to be reusable in the rest of our data analysis.\n"
   ]
  },
  {
   "cell_type": "code",
   "execution_count": 19,
   "metadata": {},
   "outputs": [],
   "source": [
    "def freq_table(dataset, index):\n",
    "    table = {}\n",
    "    total = 0\n",
    "\n",
    "    for row in dataset:\n",
    "        total += 1\n",
    "        value = row[index]\n",
    "\n",
    "        if value in table:\n",
    "            table[value] += 1\n",
    "        else:\n",
    "            table[value] = 1\n",
    "\n",
    "    table_percentages = {}\n",
    "\n",
    "    for key in table:\n",
    "        percentage = (table[key] / total) * 100\n",
    "        table_percentages[key] = percentage\n",
    "\n",
    "    return table_percentages\n",
    "\n",
    "def display_table(dataset, index):\n",
    "    table = freq_table(dataset, index)\n",
    "    table_display = []\n",
    "    for key in table:\n",
    "        key_val_as_tuple = (table[key], key)\n",
    "        table_display.append(key_val_as_tuple)\n",
    "\n",
    "    table_sorted = sorted(table_display, reverse = True)\n",
    "    for entry in table_sorted:\n",
    "        print(entry[1], ':', entry[0])"
   ]
  },
  {
   "cell_type": "markdown",
   "metadata": {},
   "source": [
    "### Most Common Apps by Genre\n",
    "We will start by examining the iOS App Store apps by genre."
   ]
  },
  {
   "cell_type": "code",
   "execution_count": 20,
   "metadata": {},
   "outputs": [
    {
     "output_type": "stream",
     "name": "stdout",
     "text": "Games : 58.16263190564867\nEntertainment : 7.883302296710118\nPhoto & Video : 4.9658597144630665\nEducation : 3.662321539416512\nSocial Networking : 3.2898820608317814\nShopping : 2.60707635009311\nUtilities : 2.5139664804469275\nSports : 2.1415270018621975\nMusic : 2.0484171322160147\nHealth & Fitness : 2.0173805090006205\nProductivity : 1.7380509000620732\nLifestyle : 1.5828677839851024\nNews : 1.3345747982619491\nTravel : 1.2414649286157666\nFinance : 1.1173184357541899\nWeather : 0.8690254500310366\nFood & Drink : 0.8069522036002483\nReference : 0.5586592178770949\nBusiness : 0.5276225946617008\nBook : 0.4345127250155183\nNavigation : 0.186219739292365\nMedical : 0.186219739292365\nCatalogs : 0.12414649286157665\n"
    }
   ],
   "source": [
    "display_table(ios_clean, -5)"
   ]
  },
  {
   "cell_type": "markdown",
   "metadata": {},
   "source": [
    "We can see that among the free English iOS App Store, Gaming apps are the most common with 58.16% making up more than half of the available apps. Entertainment and Photo apps follows with 7.88% and 4.97% each. Social Networking only makes up 3.30% of the apps and Productivity comes up to 1.74%. \n",
    "\n",
    "Even though gaming apps makes up more than half of the iOS App Store, it doesn't tells us that they are the ones with most users (installs). From the table above we can see that apps made for fun (games, entertainment, photos, social networking, music, sports) dominates the App Store against apps with practical purposes (education, utilities, shopping, productivity, lifestyle). \n",
    "\n",
    "We will now explore the most common genre in the Google Play Store. In this case we will base our research on the `Category` column, as the genre column is granular on the app description."
   ]
  },
  {
   "cell_type": "code",
   "execution_count": 21,
   "metadata": {},
   "outputs": [
    {
     "output_type": "stream",
     "name": "stdout",
     "text": "FAMILY : 18.905809362662154\nGAME : 9.723632261703328\nTOOLS : 8.460236886632826\nBUSINESS : 4.591088550479413\nLIFESTYLE : 3.914269599548787\nPRODUCTIVITY : 3.8917089678511\nFINANCE : 3.699943598420756\nMEDICAL : 3.5307388606880994\nSPORTS : 3.395375070501974\nPERSONALIZATION : 3.3164128595600673\nCOMMUNICATION : 3.2374506486181613\nHEALTH_AND_FITNESS : 3.0795262267343486\nPHOTOGRAPHY : 2.9441624365482233\nNEWS_AND_MAGAZINES : 2.7975183305132543\nSOCIAL : 2.662154540327129\nTRAVEL_AND_LOCAL : 2.33502538071066\nSHOPPING : 2.2447828539199097\nBOOKS_AND_REFERENCE : 2.143260011280316\nDATING : 1.8612521150592216\nVIDEO_PLAYERS : 1.793570219966159\nMAPS_AND_NAVIGATION : 1.3987591652566271\nFOOD_AND_DRINK : 1.2408347433728144\nEDUCATION : 1.161872532430908\nENTERTAINMENT : 0.9588268471517203\nLIBRARIES_AND_DEMO : 0.9362662154540328\nAUTO_AND_VEHICLES : 0.924985899605189\nHOUSE_AND_HOME : 0.8234630569655951\nWEATHER : 0.8009024252679076\nEVENTS : 0.7106598984771574\nPARENTING : 0.6542583192329385\nART_AND_DESIGN : 0.6429780033840948\nCOMICS : 0.6204173716864072\nBEAUTY : 0.5978567399887197\n"
    }
   ],
   "source": [
    "display_table(android_clean, 1)"
   ]
  },
  {
   "cell_type": "markdown",
   "metadata": {},
   "source": [
    "From the table above, we can see a different picture from the Google Play Store. The most common apps seems to be more into productivty as compared to the iOS App Store. Family takes first place with 18.91% of the store, followed by Games with 9.72. Moving down the list, we start seeing apps in the Tools, Business, Lifestyle, Productivity and Finance which covers up the productivy apps instead of gaming apps or others made for fun.\n",
    "\n",
    "From these two analysis, we can say that the iOS App Store is dominated by apps made for fun, while Google Play Store is more balanced between apps made for fun and apps made for productivty. With this in mind, we now want to find out which kind of apps have the most users."
   ]
  },
  {
   "cell_type": "markdown",
   "metadata": {},
   "source": [
    "One way to find out about the most popular genres (have most users) is to calculate the number of installs. In Google Play Store, we can use the `Installs` column to achieve this, but in the case of the iOS App Store, we will be using the `rating_count_tot` (number of total ratings) in order to get the most popular genre. In the code block below, we will be calculating the average number of ratings per genre in the App Store data set."
   ]
  },
  {
   "cell_type": "code",
   "execution_count": 25,
   "metadata": {},
   "outputs": [
    {
     "output_type": "stream",
     "name": "stdout",
     "text": "Navigation : 86090.33333333333\nReference : 74942.11111111111\nSocial Networking : 71548.34905660378\nMusic : 57326.530303030304\nWeather : 52279.892857142855\nBook : 39758.5\nFood & Drink : 33333.92307692308\nFinance : 31467.944444444445\nPhoto & Video : 28441.54375\nTravel : 28243.8\nShopping : 26919.690476190477\nHealth & Fitness : 23298.015384615384\nSports : 23008.898550724636\nGames : 22788.6696905016\nNews : 21248.023255813954\nProductivity : 21028.410714285714\nUtilities : 18684.456790123455\nLifestyle : 16485.764705882353\nEntertainment : 14029.830708661417\nBusiness : 7491.117647058823\nEducation : 7003.983050847458\nCatalogs : 4004.0\nMedical : 612.0\n"
    }
   ],
   "source": [
    "genres_ios = freq_table(ios_clean, -5)\n",
    "sorted_genres_ios = []\n",
    "\n",
    "for genre in genres_ios:\n",
    "    total = 0\n",
    "    len_genre = 0\n",
    "    for app in ios_clean:\n",
    "        genre_app = app[-5]\n",
    "        if genre_app == genre:\n",
    "            n_ratings = float(app[6])\n",
    "            total += n_ratings\n",
    "            len_genre += 1\n",
    "    avg_n_ratings = total / len_genre\n",
    "    sorted_genres_ios.append((avg_n_ratings, genre))\n",
    "    \n",
    "sorted_genres_ios = sorted(sorted_genres_ios, reverse=True)\n",
    "\n",
    "for entry in sorted_genres_ios:\n",
    "    print(entry[1], ':', entry[0])"
   ]
  },
  {
   "cell_type": "markdown",
   "metadata": {},
   "source": [
    "Based on our data above, we can clearly see that Navigation, Reference, Social Networking, Music and Weather are the top 5 most popular genres based on apps ratings count for the iOS App Store. We will now explore these genres to see which apps makes them so popular."
   ]
  },
  {
   "cell_type": "code",
   "execution_count": 35,
   "metadata": {},
   "outputs": [
    {
     "output_type": "stream",
     "name": "stdout",
     "text": "\nNavigation Apps\nWaze - GPS Navigation, Maps & Real-time Traffic : 345046\nGeocaching® : 12811\nImmobilienScout24: Real Estate Search in Germany : 187\nRailway Route Search : 5\nCoPilot GPS – Car Navigation & Offline Maps : 3582\nGoogle Maps - Navigation & Transit : 154911\n\nReference Apps\nBible : 985920\nDictionary.com Dictionary & Thesaurus : 200047\nDictionary.com Dictionary & Thesaurus for iPad : 54175\nMuslim Pro: Ramadan 2017 Prayer Times, Azan, Quran : 18418\nMerriam-Webster Dictionary : 16849\nGoogle Translate : 26786\nNight Sky : 12122\nWWDC : 762\nJishokun-Japanese English Dictionary & Translator : 0\n教えて!goo : 0\nVPN Express : 14\nNew Furniture Mods - Pocket Wiki & Game Tools for Minecraft PC Edition : 17588\nLUCKY BLOCK MOD ™ for Minecraft PC Edition - The Best Pocket Wiki & Mods Installer Tools : 4693\nGuides for Pokémon GO - Pokemon GO News and Cheats : 826\nHorror Maps for Minecraft PE - Download The Scariest Maps for Minecraft Pocket Edition (MCPE) Free : 718\nCity Maps for Minecraft PE - The Best Maps for Minecraft Pocket Edition (MCPE) : 8535\nGUNS MODS for Minecraft PC Edition - Mods Tools : 1497\nReal Bike Traffic Rider Virtual Reality Glasses : 8\n\nSocial Networking Apps\nFacebook : 2974676\nLinkedIn : 71856\nSkype for iPhone : 373519\nTumblr : 334293\nMatch™ - #1 Dating App. : 60659\nWhatsApp Messenger : 287589\nTextNow - Unlimited Text + Calls : 164963\nGrindr - Gay and same sex guys chat, meet and date : 23201\nimo video calls and chat : 18841\nAmeba : 269\nWeibo : 7265\nBadoo - Meet New People, Chat, Socialize. : 34428\nKik : 260965\nQzone : 1649\nFake-A-Location Free ™ : 354\nTango - Free Video Call, Voice and Chat : 75412\nMeetMe - Chat and Meet New People : 97072\nSimSimi : 23530\nViber Messenger – Text & Call : 164249\nFind My Family, Friends & iPhone - Life360 Locator : 43877\nWeibo HD : 16772\nPOF - Best Dating App for Conversations : 52642\nGroupMe : 28260\nLobi : 36\nWeChat : 34584\nooVoo – Free Video Call, Text and Voice : 177501\nPinterest : 1061624\n知乎 : 397\nQzone HD : 458\nSkype for iPad : 60163\nLINE : 11437\nQQ : 9109\nLOVOO - Dating Chat : 1985\nQQ HD : 5058\nMessenger : 351466\neHarmony™ Dating App - Meet Singles : 11124\nYouNow: Live Stream Video Chat : 12079\nCougar Dating & Life Style App for Mature Women : 213\nBattlefield™ Companion : 689\nWhisper - Share, Express, Meet : 39819\nWe Heart It - Fashion, wallpapers, quotes, tattoos : 90414\nFollowers - Social Analytics For Instagram : 112778\nInsTrack for Instagram - Analytics Plus More : 85535\nFollowers + for Instagram - Follower Analytics : 28633\nTimehop : 49510\nRepost for Instagram : 15185\nLINE PLAY - Your Avatar World : 34677\nNextdoor : 14402\nHangouts : 36404\nFollowMeter for Instagram - Followers Tracking : 11976\nTelegram Messenger : 7573\nChatous - Chat with new people : 1609\nQQ International : 274\nFireChat : 1037\nJodel : 1193\nWishbone - Compare Anything : 20649\nZenly - Locate your friends in realtime : 427\nTantan : 235\nFlinch - Video Chat Staring Contest : 2134\nbotman - Real time video chat : 7\n豆瓣 : 407\nMarco Polo Video Walkie Talkie : 27662\nAfter School - Funny Anonymous School News : 18482\nHighrise - Your Avatar Community : 2011\nQuick Reposter - Repost, Regram and Reshare Photos : 17694\nKiwi - Q&A : 1538\nPeriscope - Live Video Streaming Around the World : 6062\nInke—Broadcast an amazing life : 147\nDiscord - Chat for Gamers : 9152\nCandid - Speak Your Mind Freely : 398\nDown To Lunch : 2535\nSOMA Messenger : 3232\nRawr Messenger - Dab your chat : 180\nPopcorn Buzz - Free Group Calls : 281\nChain: Collaborate On MyVideo Story/Group Video : 35\nBestieBox : 0\nSelfeo : 366\nFollowers Analysis Tool For Instagram App Free : 4253\nHey! VINA - Where Women Meet New Friends : 719\nPlayStation®Messages : 1918\nWhenToPost: Best Time to Post Photos for Instagram : 158\nMATCH ON LINE chat : 0\nFiesta by Tango - Chat & Meet New People : 885\nHouseparty - Group Video Chat : 3991\nAll Devices for WhatsApp - Messenger for iPad : 682\nPeach — share vividly : 727\nbit-tube - Live Stream Video Chat : 0\nMiitomo : 23965\nSoundCloud Pulse: for creators : 240\nIAmNaughty – Dating App to Meet New People Online : 463\nLeague of Legends Friends : 420\nGhostCodes - a discovery app for Snapchat : 1313\nlive.ly - live video streaming : 4145\nLive.me – Live Video Chat & Make Friends Nearby : 14724\nBOO! - Video chat camera with filters & stickers : 1805\nGoogle Allo — smart messaging : 862\nGoogle Duo - simple video calling : 1033\nChat for Whatsapp - iPad Version : 5060\nChat for Pokemon Go - GoChat : 500\nniconico ch : 0\nFollowers Analytics for Instagram - InstaReport : 13914\nMonkey : 3060\nLINE BLOG : 0\nMustknow - anonymous video Q&A : 53\nCTFxCmoji : 39\nFam — Group video calling for iMessage : 279\n\nMusic Apps\nPandora - Music & Radio : 1126879\nShazam - Discover music, artists, videos & lyrics : 402925\niHeartRadio – Free Music & Radio Stations : 293228\nDeezer - Listen to your Favorite Music & Playlists : 4677\nSonos Controller : 48905\nNRJ Radio : 38\nradio.de - Der Radioplayer : 64\nSpotify Music : 878563\nSoundCloud - Music & Audio : 135744\nSing Karaoke Songs Unlimited with StarMaker : 26227\nSoundHound Song Search & Music Player : 82602\nRingtones for iPhone & Ringtone Maker : 25403\nCoach Guitar - Lessons & Easy Tabs For Beginners : 2416\nTuneIn Radio - MLB NBA Audiobooks Podcasts Music : 110420\nMagic Piano by Smule : 131695\nQQ音乐HD : 224\nThe Singing Machine Mobile Karaoke App : 130\nBandsintown Concerts : 30845\nPetitLyrics : 0\nedjing Mix:DJ turntable to remix and scratch music : 13580\nSmule Sing! : 119316\nAmazon Music : 106235\nAutoRap by Smule : 18202\nMy Mixtapez Music : 26286\nCertified Mixtapes - Hip Hop Albums & Mixtapes : 9975\nKaraoke - Sing Karaoke, Unlimited Songs! : 28606\nNapster - Top Music & Radio : 14268\nMusi - Unlimited Music For YouTube : 25193\nUE BOOM : 612\nSpinrilla - Mixtapes For Free : 15053\nGoogle Play Music : 10118\nPiano - Play Keyboard Music Games with Magic Tiles : 1636\nBose SoundTouch : 3687\nDatPiff : 2815\nSounds app - Music And Friends : 5126\nSmart Music: Streaming Videos and Radio : 17\nFree Piano app by Yokee : 13016\nSimple Radio - Live AM & FM Radio Stations : 4787\nTrebel Music - Unlimited Music Downloader : 2570\nTIDAL : 7398\nAcapella from PicPlayPost : 2487\nMedly - Music Maker : 933\nAmazon Alexa : 3018\nMusic Freedom - Unlimited Free MP3 Music Streaming : 1246\nPlayGround • Music At Your Fingertips : 150\nMusical Video Maker - Create Music clips lip sync : 320\nFree Music Play - Mp3 Streamer & Player : 2496\nLiveMixtapes : 555\nAmpMe - A Portable Social Party Music Speaker : 1047\nNOISE : 355\nYouTube Music : 7109\nRingtones for iPhone with Ringtone Maker : 4013\nMusic Memos : 909\nMusicloud - MP3 and FLAC Music Player for Cloud Platforms. : 2211\nBose Connect : 915\nCloud Music Player - Downloader & Playlist Manager : 319\nRemixlive - Remix loops with pads : 288\nFree Music -  Player & Streamer  for Dropbox, OneDrive & Google Drive : 46\nBoom: Best Equalizer & Magical Surround Sound : 1375\nMP3 Music Player & Streamer for Clouds : 329\nNicki Minaj: The Empire : 5196\nSongFlip - Free Music Streamer : 5004\nBlocs Wave - Make & Record Music : 158\nMusic and Chill : 135\nFree Music - MP3 Streamer & Playlist Manager Pro : 13443\nBOSS Tuner : 13\n"
    }
   ],
   "source": [
    "def display_app_filter(dataset, name_index, filter_index, value_index, filter_str):\n",
    "    for app in dataset:\n",
    "        if app[filter_index] == filter_str:\n",
    "            print(app[name_index], ':', app[value_index])\n",
    "\n",
    "\n",
    "print('\\nNavigation Apps')\n",
    "display_app_filter(ios_clean, 2, -5, 6, 'Navigation')\n",
    "\n",
    "print('\\nReference Apps')\n",
    "display_app_filter(ios_clean, 2, -5, 6, 'Reference')\n",
    "\n",
    "print('\\nSocial Networking Apps')\n",
    "display_app_filter(ios_clean, 2, -5, 6, 'Social Networking')\n",
    "\n",
    "print('\\nMusic Apps')\n",
    "display_app_filter(ios_clean, 2, -5, 6, 'Music')"
   ]
  },
  {
   "cell_type": "markdown",
   "metadata": {},
   "source": [
    "From the data displayed above, we can see that __Navigation__, __Social Networking__, and __Music__ genre is out of the list for recommendation on an App profile, as these genres are dominated by specific apps such as Facebook, Skype, Waze, Google Maps, Pandora and Spotify; meanwhile the other apps in these genres struggle to reach the popularity of the others.\n",
    "\n",
    "Closely analysing the __Reference__ genre, we can clearly see that the most popular apps are the Bible, Dictionary and Thesaurus, Google Translate and the Quran. This niche seems to be a great candidate for an App Profile, since people don't usually spend much time in Weather apps and the other genres are already dominated by few apps."
   ]
  },
  {
   "cell_type": "code",
   "execution_count": null,
   "metadata": {},
   "outputs": [],
   "source": []
  }
 ],
 "metadata": {
  "language_info": {
   "codemirror_mode": {
    "name": "ipython",
    "version": 3
   },
   "file_extension": ".py",
   "mimetype": "text/x-python",
   "name": "python",
   "nbconvert_exporter": "python",
   "pygments_lexer": "ipython3",
   "version": "3.8.2-final"
  },
  "orig_nbformat": 2,
  "kernelspec": {
   "name": "python38264bit1ec64847437d483aae9fa1bf390663b3",
   "display_name": "Python 3.8.2 64-bit"
  }
 },
 "nbformat": 4,
 "nbformat_minor": 2
}