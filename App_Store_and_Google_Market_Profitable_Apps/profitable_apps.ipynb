{
 "cells": [
  {
   "cell_type": "markdown",
   "metadata": {},
   "source": [
    "# Profitable Apps Profile on Apple App Store and Google Play Markets\n",
    "The aim of this project is to find a mobile app profile that will be profitable in both the Apple App Store and the Google Play markets. In this project we will be analyzing a set of applications available in both markets in order to accomplish this objective. \n",
    "\n",
    "For this project, we will be taking the role of a data analyst and it is our job to help developers make data-driven decisions in respect to the new app to be built.\n",
    "\n",
    "Our company only builds apps that are free to download and install, directed to English speaking audience, having in-app ads being the main source of revenue. Having this in mind, the revenue of our new app will depend on the number of users that will be using our app. Considering all these points, the goal of this project is to analyze both markets data in order to help our developers understand what will be the best App Profile that will more likely attract more users."
   ]
  },
  {
   "cell_type": "markdown",
   "metadata": {},
   "source": [
    "## Opening and Exploring the Data\n",
    "As of the first quarter of 2020, Android users were able to choose between 2.56 million apps, making Google Play the app store with biggest number of available apps. Apple's App Store was the second-largest app store with almost 1.85 million available apps for iOS. - [Taken from statista](https://www.statista.com/statistics/276623/number-of-apps-available-in-leading-app-stores/)\n",
    "\n",
    "\n",
    "![](app_stores_stats-2020.png)\n",
    "\n",
    "Collecting data for over 4 million apps is time consuming and costly. For this project we will be using sample data sets that are available for free from the following links:\n",
    "- [Google Play Store](https://www.kaggle.com/lava18/google-play-store-apps) data set which contains over 10,000 apps and can be downloaded from [here](https://dq-content.s3.amazonaws.com/350/googleplaystore.csv).\n",
    "- [Apple App Store](https://www.kaggle.com/ramamet4/app-store-apple-data-set-10k-apps) data set which contains over 7,000 apps and can be downloaded from [here](https://dq-content.s3.amazonaws.com/350/AppleStore.csv). \n"
   ]
  },
  {
   "cell_type": "markdown",
   "metadata": {},
   "source": [
    "### Open data sets\n",
    "In the code below, we will open both data sets."
   ]
  },
  {
   "cell_type": "code",
   "execution_count": 1,
   "metadata": {},
   "outputs": [],
   "source": [
    "from csv import reader\n",
    "\n",
    "### Google Play Data ###\n",
    "android = list(reader(open(\"googleplaystore.csv\")))\n",
    "android_header = android[0]\n",
    "android = android[1:]\n",
    "\n",
    "### iOS App Store Data ###\n",
    "ios = list(reader(open(\"AppleStore.csv\")))\n",
    "ios_header = ios[0]\n",
    "ios = ios[1:]"
   ]
  },
  {
   "cell_type": "markdown",
   "metadata": {},
   "source": [
    "### Explore data sets\n",
    "We will now create a function that will help us explore the data sets in a user friendly readable way. We will be defining a function `explore_data()` that can be reusable all over our project."
   ]
  },
  {
   "cell_type": "code",
   "execution_count": 2,
   "metadata": {},
   "outputs": [
    {
     "output_type": "stream",
     "name": "stdout",
     "text": "Google Play Data:\n\n['App', 'Category', 'Rating', 'Reviews', 'Size', 'Installs', 'Type', 'Price', 'Content Rating', 'Genres', 'Last Updated', 'Current Ver', 'Android Ver']\n\n\n['Photo Editor & Candy Camera & Grid & ScrapBook', 'ART_AND_DESIGN', '4.1', '159', '19M', '10,000+', 'Free', '0', 'Everyone', 'Art & Design', 'January 7, 2018', '1.0.0', '4.0.3 and up']\n\n\n['Coloring book moana', 'ART_AND_DESIGN', '3.9', '967', '14M', '500,000+', 'Free', '0', 'Everyone', 'Art & Design;Pretend Play', 'January 15, 2018', '2.0.0', '4.0.3 and up']\n\n\n['U Launcher Lite – FREE Live Cool Themes, Hide Apps', 'ART_AND_DESIGN', '4.7', '87510', '8.7M', '5,000,000+', 'Free', '0', 'Everyone', 'Art & Design', 'August 1, 2018', '1.2.4', '4.0.3 and up']\n\n\n['Sketch - Draw & Paint', 'ART_AND_DESIGN', '4.5', '215644', '25M', '50,000,000+', 'Free', '0', 'Teen', 'Art & Design', 'June 8, 2018', 'Varies with device', '4.2 and up']\n\n\n['Pixel Draw - Number Art Coloring Book', 'ART_AND_DESIGN', '4.3', '967', '2.8M', '100,000+', 'Free', '0', 'Everyone', 'Art & Design;Creativity', 'June 20, 2018', '1.1', '4.4 and up']\n\n\nNumber of rows: 10841\nNumber of columns: 13\n"
    }
   ],
   "source": [
    "def explore_data(data_set, start=0, end=5, rows_and_columns=False):\n",
    "    \"\"\"\n",
    "        Print a slice of the data set in order to explore the data\n",
    "        in a readable way.\n",
    "        Inputs:\n",
    "            - data_set (list): List of lists containing the data set.\n",
    "            - start (int): Index position for starting the slice.\n",
    "            - end (int): Index position for ending the slice.\n",
    "            - rows_and_columns (bool): True for printing the number of rows and cols.\n",
    "    \"\"\"\n",
    "\n",
    "    dataset_slice = data_set[start:end]\n",
    "    for row in dataset_slice:\n",
    "        print(\"\\n\")\n",
    "        print(row)\n",
    "\n",
    "    if rows_and_columns:\n",
    "        print(\"\\n\")\n",
    "        print(\"Number of rows: {}\".format(len(data_set)))\n",
    "        print(\"Number of columns: {}\".format(len(data_set[0])))\n",
    "\n",
    "print(\"Google Play Data:\\n\")\n",
    "print(android_header)\n",
    "explore_data(android, rows_and_columns=True)"
   ]
  },
  {
   "cell_type": "markdown",
   "metadata": {},
   "source": [
    "We can see we have a total of 10,841 differents app from the Google Play data set. We can get a full description of each column from [here](https://www.kaggle.com/lava18/google-play-store-apps)\n",
    "\n",
    "| Column           | Description                                                                                                                                   |\n",
    "|------------------|-----------------------------------------------------------------------------------------------------------------------------------------------|\n",
    "| 'App'            | Application name                                                                                                                              |\n",
    "| 'Category'       | Category the app belongs to                                                                                                                   |\n",
    "| 'Rating'         | Overall user rating of the app (as when scraped)                                                                                              |\n",
    "| 'Reviews'        | Number of user reviews for the app (as when scraped)                                                                                          |\n",
    "| 'Size'           | Size of the app (as when scraped)                                                                                                             |\n",
    "| 'Installs'       | Number of user downloads/installs for the app (as when scraped)                                                                               |\n",
    "| 'Type'           | Paid or Free                                                                                                                                  |\n",
    "| 'Price'          | Price of the app (as when scraped)                                                                                                            |\n",
    "| 'Content Rating' | Age group the app is targeted at - Children / Mature 21+ / Adult                                                                              |\n",
    "| 'Genres'         | An app can belong to multiple genres (apart from its main category). For eg, a musical family game will belong to Music, Game, Family genres. |\n",
    "| 'Last Updated'   | Date of last update                                                                                                                           |\n",
    "| 'Current Ver'    | Current App Version                                                                                                                           |\n",
    "| 'Androud Ver'    | Supported Adnroid Version                                                                                                                     |\n",
    "\n",
    "From the columns descriptions above, we will be using the following columns that will help us achieve the goal of this project:\n",
    "- App\n",
    "- Category\n",
    "- Reviews\n",
    "- Size\n",
    "- Type\n",
    "- Price\n",
    "- Genres\n",
    "\n",
    "\n",
    "We will now explore the Apple App Store data set.\n"
   ]
  },
  {
   "cell_type": "code",
   "execution_count": 3,
   "metadata": {},
   "outputs": [
    {
     "output_type": "stream",
     "name": "stdout",
     "text": "Apple App Store Data:\n\n['', 'id', 'track_name', 'size_bytes', 'currency', 'price', 'rating_count_tot', 'rating_count_ver', 'user_rating', 'user_rating_ver', 'ver', 'cont_rating', 'prime_genre', 'sup_devices.num', 'ipadSc_urls.num', 'lang.num', 'vpp_lic']\n\n\n['1', '281656475', 'PAC-MAN Premium', '100788224', 'USD', '3.99', '21292', '26', '4', '4.5', '6.3.5', '4+', 'Games', '38', '5', '10', '1']\n\n\n['2', '281796108', 'Evernote - stay organized', '158578688', 'USD', '0', '161065', '26', '4', '3.5', '8.2.2', '4+', 'Productivity', '37', '5', '23', '1']\n\n\n['3', '281940292', 'WeatherBug - Local Weather, Radar, Maps, Alerts', '100524032', 'USD', '0', '188583', '2822', '3.5', '4.5', '5.0.0', '4+', 'Weather', '37', '5', '3', '1']\n\n\n['4', '282614216', 'eBay: Best App to Buy, Sell, Save! Online Shopping', '128512000', 'USD', '0', '262241', '649', '4', '4.5', '5.10.0', '12+', 'Shopping', '37', '5', '9', '1']\n\n\n['5', '282935706', 'Bible', '92774400', 'USD', '0', '985920', '5320', '4.5', '5', '7.5.1', '4+', 'Reference', '37', '5', '45', '1']\n\n\nNumber of rows: 7197\nNumber of columns: 17\n"
    }
   ],
   "source": [
    "print(\"Apple App Store Data:\\n\")\n",
    "print(ios_header)\n",
    "explore_data(ios, rows_and_columns=True)"
   ]
  },
  {
   "cell_type": "markdown",
   "metadata": {},
   "source": [
    "We have 7197 different apps in the Apple App Store data set, and we can get full descriptions of its columns [here](https://www.kaggle.com/ramamet4/app-store-apple-data-set-10k-apps).\n",
    "\n",
    "Columns:\n",
    "\n",
    "| Column name        | Description                                     |\n",
    "|--------------------|-------------------------------------------------|\n",
    "| \"id\"               | App ID                                          |\n",
    "| \"track_name\"       | App Name                                        |\n",
    "| \"size_bytes\"       | Size (in bytes)                                 |\n",
    "| \"currency\"         | Currency Type                                   |\n",
    "| \"price\"            | Price amount                                    |\n",
    "| \"rating_count_tot\" | User rating counts (for all version)            |\n",
    "| \"rating_count_ver\" | User Rating counts (for current version)        |\n",
    "| \"user_rating\"      | Average User Rating value (for all version)     |\n",
    "| \"user_rating_ver\"  | Average User Rating value (for current version) |\n",
    "| \"ver\"              | Latest version code                             |\n",
    "| \"cont_rating\"      | Content Rating                                  |\n",
    "| \"prime_genre\"      | Primary Genre                                   |\n",
    "| \"sup_devices.num\"  | Number of supporting devices                    |\n",
    "| \"ipadSc_urls.num\"  | Number of screenshots showed for display        |\n",
    "| \"lang.num\"         | Number of supported languages                   |\n",
    "| \"vpp_lic\"          | Vpp Device Based Licensing Enabled              |\n",
    "\n",
    "\n",
    "Columns of interest:\n",
    "- track_name\n",
    "- size_bytes\n",
    "- currency\n",
    "- price\n",
    "- rating_count_tot\n",
    "- rating_count_ver\n",
    "- prime_genre"
   ]
  },
  {
   "cell_type": "markdown",
   "metadata": {},
   "source": [
    "## Cleaning Up Data\n",
    "Like with every data set, we need to make sure our data is clean (duplicates and wrong data removed) before we start analysing it and drawing conclusions. When using data sets provided freely like ours from Kaggle, we can check their discussion sections in order to find comments that might point us to wrong data or incosistencies in the data set. Besides this method, we could also go ahead and check the data ourselves in order to find missing or inconsistent data.\n",
    "\n",
    "### Missing Data\n",
    "In order to ensure that all rows have the same amount of values as the number of columns, we will use the following code to achieve this:\n",
    "\n"
   ]
  },
  {
   "cell_type": "code",
   "execution_count": 4,
   "metadata": {},
   "outputs": [],
   "source": [
    "def check_row_length(dataset, header):\n",
    "    \"\"\"\n",
    "        Compares each row's length against the header length in order to find\n",
    "        data incosistencies. Prints the row and index number when found.\n",
    "        Inputs:\n",
    "            - dataset (list): List of lists containing the data set.\n",
    "            - header (list): List of columns from the original data set.\n",
    "    \"\"\"\n",
    "    header_length = len(header)\n",
    "    print(header)\n",
    "    for row in dataset:\n",
    "        if len(row) != header_length:\n",
    "            print(\"\\n\")\n",
    "            print(row)\n",
    "            print(\"Index: {}\".format(dataset.index(row)))"
   ]
  },
  {
   "cell_type": "markdown",
   "metadata": {},
   "source": [
    "We will now check the Google Play Store data set:"
   ]
  },
  {
   "cell_type": "code",
   "execution_count": 5,
   "metadata": {},
   "outputs": [
    {
     "output_type": "stream",
     "name": "stdout",
     "text": "['App', 'Category', 'Rating', 'Reviews', 'Size', 'Installs', 'Type', 'Price', 'Content Rating', 'Genres', 'Last Updated', 'Current Ver', 'Android Ver']\n\n\n['Life Made WI-Fi Touchscreen Photo Frame', '1.9', '19', '3.0M', '1,000+', 'Free', '0', 'Everyone', '', 'February 11, 2018', '1.0.19', '4.0 and up']\nIndex: 10472\n"
    }
   ],
   "source": [
    "check_row_length(android, android_header)"
   ]
  },
  {
   "cell_type": "markdown",
   "metadata": {},
   "source": [
    "After running our check, we can see that the Google Play Store data set contains one row which is missing a data point. We can right away see that it's missing the Category.\n",
    "\n",
    "We will now run the same function for the iOS App Store data set."
   ]
  },
  {
   "cell_type": "code",
   "execution_count": 6,
   "metadata": {},
   "outputs": [
    {
     "output_type": "stream",
     "name": "stdout",
     "text": "['', 'id', 'track_name', 'size_bytes', 'currency', 'price', 'rating_count_tot', 'rating_count_ver', 'user_rating', 'user_rating_ver', 'ver', 'cont_rating', 'prime_genre', 'sup_devices.num', 'ipadSc_urls.num', 'lang.num', 'vpp_lic']\n"
    }
   ],
   "source": [
    "check_row_length(ios, ios_header)"
   ]
  },
  {
   "cell_type": "markdown",
   "metadata": {},
   "source": [
    "No data incosistencies were found for the iOS App Store.\n",
    "\n",
    "### Fix the Missing Data\n",
    "We can take two different paths in order to fix this missing data found in the Google Play Store Data set:\n",
    "\n",
    "- Delete the row.\n",
    "- Research on the App and get the proper Category.\n",
    "\n",
    "If we search directly on the Google Play Store for the app `Life Made WI-Fi Touchscreen Photo Frame` we are able to see that it belongs to the `Lifestyle` Category.\n",
    "\n",
    "In the code below we will go ahead and replace the current row `10472` with the correct one.\n",
    "\n"
   ]
  },
  {
   "cell_type": "code",
   "execution_count": 7,
   "metadata": {},
   "outputs": [
    {
     "output_type": "stream",
     "name": "stdout",
     "text": "['App', 'Category', 'Rating', 'Reviews', 'Size', 'Installs', 'Type', 'Price', 'Content Rating', 'Genres', 'Last Updated', 'Current Ver', 'Android Ver']\n['Life Made WI-Fi Touchscreen Photo Frame', 'LIFESTYLE', '1.9', '19', '3.0M', '1,000+', 'Free', '0', 'Everyone', '', 'February 11, 2018', '1.0.19', '4.0 and up']\n"
    }
   ],
   "source": [
    "# ONLY RUN ONCE\n",
    "android[10472].insert(1, 'LIFESTYLE')\n",
    "print(android_header)\n",
    "print(android[10472])"
   ]
  },
  {
   "cell_type": "markdown",
   "metadata": {},
   "source": [
    "We can run our `check_row_length()` function over the Google Play Store data set again to ensure everything is now properly set."
   ]
  },
  {
   "cell_type": "code",
   "execution_count": 8,
   "metadata": {},
   "outputs": [
    {
     "output_type": "stream",
     "name": "stdout",
     "text": "['App', 'Category', 'Rating', 'Reviews', 'Size', 'Installs', 'Type', 'Price', 'Content Rating', 'Genres', 'Last Updated', 'Current Ver', 'Android Ver']\n"
    }
   ],
   "source": [
    "check_row_length(android, android_header)"
   ]
  },
  {
   "cell_type": "markdown",
   "metadata": {},
   "source": [
    "### Finding Duplicates\n",
    "We will now create a function that will check our data sets for duplicates, and then we will proceed to remove them.\n"
   ]
  },
  {
   "cell_type": "code",
   "execution_count": 9,
   "metadata": {
    "tags": [
     "outputPrepend"
    ]
   },
   "outputs": [
    {
     "output_type": "stream",
     "name": "stdout",
     "text": "Number of Duplicate Apps: 1181\nExample of Duplicate Apps:\n['Quick PDF Scanner + OCR FREE', 'Box', 'Google My Business', 'ZOOM Cloud Meetings', 'join.me - Simple Meetings', 'Box', 'Zenefits', 'Google Ads', 'Google My Business', 'Slack', 'FreshBooks Classic', 'Insightly CRM', 'QuickBooks Accounting: Invoicing & Expenses', 'HipChat - Chat Built for Teams', 'Xero Accounting Software']\n"
    }
   ],
   "source": [
    "def find_duplicates(dataset, name_index):\n",
    "    \"\"\"\n",
    "        Checks duplicates on dataset based on the index provided. Prints the lists of duplicates.\n",
    "\n",
    "        Inputs:\n",
    "            - dataset (list): list of lists which makes up the date set.\n",
    "            - name_index (int): index position to compare/look for duplicates.\n",
    "    \"\"\"\n",
    "    unique_apps = []\n",
    "    duplicate_apps = []\n",
    "\n",
    "    for app in dataset:\n",
    "        name = app[name_index]\n",
    "        if name in unique_apps:\n",
    "            duplicate_apps.append(name)\n",
    "        else:\n",
    "            unique_apps.append(name)\n",
    "\n",
    "    print(\"Number of Duplicate Apps: {}\".format(len(duplicate_apps)))\n",
    "    print(\"Example of Duplicate Apps:\\n{}\".format(duplicate_apps[:15]))\n",
    "\n",
    "# check against Google Play Store Data set.\n",
    "find_duplicates(android, 0)"
   ]
  },
  {
   "cell_type": "code",
   "execution_count": 10,
   "metadata": {},
   "outputs": [
    {
     "output_type": "stream",
     "name": "stdout",
     "text": "Number of Duplicate Apps: 0\nExample of Duplicate Apps:\n[]\n"
    }
   ],
   "source": [
    "find_duplicates(ios, 1)"
   ]
  },
  {
   "cell_type": "markdown",
   "metadata": {},
   "source": [
    "After running our `find_duplicates()` function, we are able to see that the Google Play Store data set containts 1181 duplicated apps. We will now build a function that removes these duplicate apps.\n",
    "\n",
    "Before we proceed, lets go ahead and check entries for one of these apps."
   ]
  },
  {
   "cell_type": "code",
   "execution_count": 11,
   "metadata": {},
   "outputs": [
    {
     "output_type": "stream",
     "name": "stdout",
     "text": "['App', 'Category', 'Rating', 'Reviews', 'Size', 'Installs', 'Type', 'Price', 'Content Rating', 'Genres', 'Last Updated', 'Current Ver', 'Android Ver']\n240 - ['Slack', 'BUSINESS', '4.4', '51507', 'Varies with device', '5,000,000+', 'Free', '0', 'Everyone', 'Business', 'August 2, 2018', 'Varies with device', 'Varies with device']\n269 - ['Slack', 'BUSINESS', '4.4', '51507', 'Varies with device', '5,000,000+', 'Free', '0', 'Everyone', 'Business', 'August 2, 2018', 'Varies with device', 'Varies with device']\n294 - ['Slack', 'BUSINESS', '4.4', '51510', 'Varies with device', '5,000,000+', 'Free', '0', 'Everyone', 'Business', 'August 2, 2018', 'Varies with device', 'Varies with device']\n"
    }
   ],
   "source": [
    "print(android_header)\n",
    "for index, value in enumerate(android):\n",
    "    if value[0] == 'Slack':\n",
    "        print(\"{} - {}\".format(index, android[index]))"
   ]
  },
  {
   "cell_type": "markdown",
   "metadata": {},
   "source": [
    "Based on the check we did with `Slack` app, we can see different numbers of reviews for each entry. Due to this, instead of randomly deleting the duplicated apps, we will check for the entry with highest reviews and delete the rest. \n",
    "\n",
    "We will start by creating a dictionary that contains each of the apps with their max amount of reviews. The code will check if the name is already in the new dictionary and if the number of reviews is greater than the one already existing in order to keep one instance of each app."
   ]
  },
  {
   "cell_type": "code",
   "execution_count": 12,
   "metadata": {},
   "outputs": [],
   "source": [
    "max_reviews = {}\n",
    "\n",
    "for app in android:\n",
    "    name = app[0]\n",
    "    n_reviews = float(app[3])\n",
    "\n",
    "    if name in max_reviews and max_reviews[name] < n_reviews:\n",
    "        max_reviews[name] = n_reviews\n",
    "    elif name not in max_reviews:\n",
    "        max_reviews[name] = n_reviews\n",
    "        "
   ]
  },
  {
   "cell_type": "markdown",
   "metadata": {},
   "source": [
    "When checking for duplicates, we found a total of 1,181 duplicated app. If we subtract this number from the total number of rows `10,841 - 1,181` we get a total of `9,660` unique apps from the Google Play Store data set. This means that the length of our new dictionary should equal `9,660`, and we will be checking this on the code cell below."
   ]
  },
  {
   "cell_type": "code",
   "execution_count": 13,
   "metadata": {},
   "outputs": [
    {
     "output_type": "stream",
     "name": "stdout",
     "text": "9660\n"
    }
   ],
   "source": [
    "# Check that length of new dictionary matches 9660\n",
    "print(len(max_reviews))"
   ]
  },
  {
   "cell_type": "markdown",
   "metadata": {},
   "source": [
    "Having this dictionary we can now go ahead and create a clean data set by remmoving the duplicates. In the code cell below, we will be creating a new list with the right amount of apps meanwhile we check and compare the number of reviews from our previous dictionary."
   ]
  },
  {
   "cell_type": "code",
   "execution_count": 14,
   "metadata": {},
   "outputs": [],
   "source": [
    "#Create new data set without duplicates\n",
    "new_android = []\n",
    "added_app = []\n",
    "\n",
    "for app in android:\n",
    "    name = app[0]\n",
    "    n_reviews = float(app[3])\n",
    "\n",
    "    if (max_reviews[name] == n_reviews) and (name not in added_app):\n",
    "       new_android.append(app)\n",
    "       added_app.append(name)"
   ]
  },
  {
   "cell_type": "markdown",
   "metadata": {},
   "source": [
    "We can now explore our new data set and check for duplicates."
   ]
  },
  {
   "cell_type": "code",
   "execution_count": 15,
   "metadata": {},
   "outputs": [
    {
     "output_type": "stream",
     "name": "stdout",
     "text": "Number of Duplicate Apps: 0\nExample of Duplicate Apps:\n[]\n\n\n['Photo Editor & Candy Camera & Grid & ScrapBook', 'ART_AND_DESIGN', '4.1', '159', '19M', '10,000+', 'Free', '0', 'Everyone', 'Art & Design', 'January 7, 2018', '1.0.0', '4.0.3 and up']\n\n\n['U Launcher Lite – FREE Live Cool Themes, Hide Apps', 'ART_AND_DESIGN', '4.7', '87510', '8.7M', '5,000,000+', 'Free', '0', 'Everyone', 'Art & Design', 'August 1, 2018', '1.2.4', '4.0.3 and up']\n\n\n['Sketch - Draw & Paint', 'ART_AND_DESIGN', '4.5', '215644', '25M', '50,000,000+', 'Free', '0', 'Teen', 'Art & Design', 'June 8, 2018', 'Varies with device', '4.2 and up']\n\n\n['Pixel Draw - Number Art Coloring Book', 'ART_AND_DESIGN', '4.3', '967', '2.8M', '100,000+', 'Free', '0', 'Everyone', 'Art & Design;Creativity', 'June 20, 2018', '1.1', '4.4 and up']\n\n\n['Paper flowers instructions', 'ART_AND_DESIGN', '4.4', '167', '5.6M', '50,000+', 'Free', '0', 'Everyone', 'Art & Design', 'March 26, 2017', '1.0', '2.3 and up']\n\n\nNumber of rows: 9660\nNumber of columns: 13\n"
    }
   ],
   "source": [
    "find_duplicates(new_android, 0)\n",
    "explore_data(new_android, 0, 5, True)"
   ]
  },
  {
   "cell_type": "markdown",
   "metadata": {},
   "source": [
    "We can now say that our new Google Play Store data set is clean from duplicates.\n",
    "\n",
    "### Removing non-English Apps.\n",
    "\n",
    "Based on our Project summary, we specified that our company only builds apps for English speaking audience, therefore, we need to check that our data sets contains only app profiles for english speakers. In order to accomplish this, we will be using the `ord()` function that gives us back the integer position of ASCII character. English has a range of 0 - 127, but we might be excluding special characters or emoji with this approach, therefore, in our code below we will check for English characters that has no more than 3 special characters in order to clean our data sets."
   ]
  },
  {
   "cell_type": "code",
   "execution_count": 16,
   "metadata": {},
   "outputs": [
    {
     "output_type": "stream",
     "name": "stdout",
     "text": "True\nFalse\nTrue\nTrue\n"
    }
   ],
   "source": [
    "def is_english(string):\n",
    "    non_ascii = 0\n",
    "\n",
    "    for char in string:\n",
    "        if ord(char) > 127:\n",
    "            non_ascii += 1\n",
    "\n",
    "    if non_ascii  > 3:\n",
    "        return False\n",
    "    else:\n",
    "        return True\n",
    "\n",
    "# Test function\n",
    "print(is_english('Instagram'))\n",
    "print(is_english('爱奇艺PPS -《欢乐颂2》电视剧热播'))\n",
    "print(is_english('™'))\n",
    "print(is_english('😜'))"
   ]
  },
  {
   "cell_type": "markdown",
   "metadata": {},
   "source": [
    "After testing our function, we can now go ahead and clean our data sets."
   ]
  },
  {
   "cell_type": "code",
   "execution_count": 17,
   "metadata": {},
   "outputs": [
    {
     "output_type": "stream",
     "name": "stdout",
     "text": "\n\n['Photo Editor & Candy Camera & Grid & ScrapBook', 'ART_AND_DESIGN', '4.1', '159', '19M', '10,000+', 'Free', '0', 'Everyone', 'Art & Design', 'January 7, 2018', '1.0.0', '4.0.3 and up']\n\n\n['U Launcher Lite – FREE Live Cool Themes, Hide Apps', 'ART_AND_DESIGN', '4.7', '87510', '8.7M', '5,000,000+', 'Free', '0', 'Everyone', 'Art & Design', 'August 1, 2018', '1.2.4', '4.0.3 and up']\n\n\n['Sketch - Draw & Paint', 'ART_AND_DESIGN', '4.5', '215644', '25M', '50,000,000+', 'Free', '0', 'Teen', 'Art & Design', 'June 8, 2018', 'Varies with device', '4.2 and up']\n\n\n['Pixel Draw - Number Art Coloring Book', 'ART_AND_DESIGN', '4.3', '967', '2.8M', '100,000+', 'Free', '0', 'Everyone', 'Art & Design;Creativity', 'June 20, 2018', '1.1', '4.4 and up']\n\n\n['Paper flowers instructions', 'ART_AND_DESIGN', '4.4', '167', '5.6M', '50,000+', 'Free', '0', 'Everyone', 'Art & Design', 'March 26, 2017', '1.0', '2.3 and up']\n\n\nNumber of rows: 9615\nNumber of columns: 13\n\n\n['1', '281656475', 'PAC-MAN Premium', '100788224', 'USD', '3.99', '21292', '26', '4', '4.5', '6.3.5', '4+', 'Games', '38', '5', '10', '1']\n\n\n['2', '281796108', 'Evernote - stay organized', '158578688', 'USD', '0', '161065', '26', '4', '3.5', '8.2.2', '4+', 'Productivity', '37', '5', '23', '1']\n\n\n['3', '281940292', 'WeatherBug - Local Weather, Radar, Maps, Alerts', '100524032', 'USD', '0', '188583', '2822', '3.5', '4.5', '5.0.0', '4+', 'Weather', '37', '5', '3', '1']\n\n\n['4', '282614216', 'eBay: Best App to Buy, Sell, Save! Online Shopping', '128512000', 'USD', '0', '262241', '649', '4', '4.5', '5.10.0', '12+', 'Shopping', '37', '5', '9', '1']\n\n\n['5', '282935706', 'Bible', '92774400', 'USD', '0', '985920', '5320', '4.5', '5', '7.5.1', '4+', 'Reference', '37', '5', '45', '1']\n\n\nNumber of rows: 6183\nNumber of columns: 17\n"
    }
   ],
   "source": [
    "android_english = []\n",
    "ios_english = []\n",
    "\n",
    "for app in new_android:\n",
    "    name = app[0]\n",
    "    if is_english(name):\n",
    "        android_english.append(app)\n",
    "\n",
    "for app in ios:\n",
    "    name = app[2]\n",
    "    if is_english(name):\n",
    "        ios_english.append(app)\n",
    "\n",
    "# Explore our data\n",
    "explore_data(android_english, rows_and_columns=True)\n",
    "explore_data(ios_english, rows_and_columns=True)"
   ]
  },
  {
   "cell_type": "markdown",
   "metadata": {},
   "source": [
    "We now have two data sets which is free of duplicates, data incosistencies and non-english app profiles.\n",
    "\n",
    "### Removing non-free apps.\n",
    "As mentioned in the project introduction, our company only creates free apps and our revenue is based on ads. We will now clean our data sets and keep only app profiles of Free apps. In the code below, we will check for the price and keep only the apps that have a price of `0`."
   ]
  },
  {
   "cell_type": "code",
   "execution_count": 18,
   "metadata": {},
   "outputs": [
    {
     "output_type": "stream",
     "name": "stdout",
     "text": "\n\n['Photo Editor & Candy Camera & Grid & ScrapBook', 'ART_AND_DESIGN', '4.1', '159', '19M', '10,000+', 'Free', '0', 'Everyone', 'Art & Design', 'January 7, 2018', '1.0.0', '4.0.3 and up']\n\n\n['U Launcher Lite – FREE Live Cool Themes, Hide Apps', 'ART_AND_DESIGN', '4.7', '87510', '8.7M', '5,000,000+', 'Free', '0', 'Everyone', 'Art & Design', 'August 1, 2018', '1.2.4', '4.0.3 and up']\n\n\n['Sketch - Draw & Paint', 'ART_AND_DESIGN', '4.5', '215644', '25M', '50,000,000+', 'Free', '0', 'Teen', 'Art & Design', 'June 8, 2018', 'Varies with device', '4.2 and up']\n\n\n['Pixel Draw - Number Art Coloring Book', 'ART_AND_DESIGN', '4.3', '967', '2.8M', '100,000+', 'Free', '0', 'Everyone', 'Art & Design;Creativity', 'June 20, 2018', '1.1', '4.4 and up']\n\n\n['Paper flowers instructions', 'ART_AND_DESIGN', '4.4', '167', '5.6M', '50,000+', 'Free', '0', 'Everyone', 'Art & Design', 'March 26, 2017', '1.0', '2.3 and up']\n\n\nNumber of rows: 8865\nNumber of columns: 13\n\n\n['2', '281796108', 'Evernote - stay organized', '158578688', 'USD', '0', '161065', '26', '4', '3.5', '8.2.2', '4+', 'Productivity', '37', '5', '23', '1']\n\n\n['3', '281940292', 'WeatherBug - Local Weather, Radar, Maps, Alerts', '100524032', 'USD', '0', '188583', '2822', '3.5', '4.5', '5.0.0', '4+', 'Weather', '37', '5', '3', '1']\n\n\n['4', '282614216', 'eBay: Best App to Buy, Sell, Save! Online Shopping', '128512000', 'USD', '0', '262241', '649', '4', '4.5', '5.10.0', '12+', 'Shopping', '37', '5', '9', '1']\n\n\n['5', '282935706', 'Bible', '92774400', 'USD', '0', '985920', '5320', '4.5', '5', '7.5.1', '4+', 'Reference', '37', '5', '45', '1']\n\n\n['7', '283646709', 'PayPal - Send and request money safely', '227795968', 'USD', '0', '119487', '879', '4', '4.5', '6.12.0', '4+', 'Finance', '37', '0', '19', '1']\n\n\nNumber of rows: 3222\nNumber of columns: 17\n"
    }
   ],
   "source": [
    "android_clean = []\n",
    "ios_clean = []\n",
    "\n",
    "# Isolate free apps.\n",
    "\n",
    "for app in android_english:\n",
    "    price = app[7]\n",
    "    if price == '0' or price == '0.0':\n",
    "        android_clean.append(app)\n",
    "\n",
    "for app in ios_english:\n",
    "    price = app[5]\n",
    "    if price == '0' or price == '0.0':\n",
    "        ios_clean.append(app)\n",
    "\n",
    "explore_data(android_clean, rows_and_columns=True)\n",
    "explore_data(ios_clean, rows_and_columns=True)"
   ]
  },
  {
   "cell_type": "markdown",
   "metadata": {},
   "source": [
    "We're left with __8865__ apps in our Google Play Store data set and __3222__ apps in our iOS App Store. We can now start analysis."
   ]
  },
  {
   "cell_type": "markdown",
   "metadata": {},
   "source": [
    "## Data Analysis\n",
    "As mentioned in the project introduction, we are trying to find an app profile that will be profitable in both Google Play Store and iOS App Store. Our app will be free and our revenue will be based on ads; meaning it should be popular with users.\n",
    "\n",
    "Validation Strategy:\n",
    "- Build a minimal Android version of the app, add it to Google Play Store.\n",
    "- If the app has a good response from users, we develop it further.\n",
    "- If the app is profitable after six months, we build an iOS version of the app and add it to the App Store.\n",
    "\n",
    "We will start our analysis by figuring out what is the most common genre from each market. For this, we will need to create frequency tables from our data sets. We will define a function that will build a frequency table and display it, in order to be reusable in the rest of our data analysis.\n"
   ]
  },
  {
   "cell_type": "code",
   "execution_count": 19,
   "metadata": {},
   "outputs": [],
   "source": [
    "def freq_table(dataset, index):\n",
    "    table = {}\n",
    "    total = 0\n",
    "\n",
    "    for row in dataset:\n",
    "        total += 1\n",
    "        value = row[index]\n",
    "\n",
    "        if value in table:\n",
    "            table[value] += 1\n",
    "        else:\n",
    "            table[value] = 1\n",
    "\n",
    "    table_percentages = {}\n",
    "\n",
    "    for key in table:\n",
    "        percentage = (table[key] / total) * 100\n",
    "        table_percentages[key] = percentage\n",
    "\n",
    "    return table_percentages\n",
    "\n",
    "def display_table(dataset, index):\n",
    "    table = freq_table(dataset, index)\n",
    "    table_display = []\n",
    "    for key in table:\n",
    "        key_val_as_tuple = (table[key], key)\n",
    "        table_display.append(key_val_as_tuple)\n",
    "\n",
    "    table_sorted = sorted(table_display, reverse = True)\n",
    "    for entry in table_sorted:\n",
    "        print(entry[1], ':', entry[0])"
   ]
  },
  {
   "cell_type": "markdown",
   "metadata": {},
   "source": [
    "### Most Common Apps by Genre\n",
    "We will start by examining the iOS App Store apps by genre."
   ]
  },
  {
   "cell_type": "code",
   "execution_count": 20,
   "metadata": {},
   "outputs": [
    {
     "output_type": "stream",
     "name": "stdout",
     "text": "Games : 58.16263190564867\nEntertainment : 7.883302296710118\nPhoto & Video : 4.9658597144630665\nEducation : 3.662321539416512\nSocial Networking : 3.2898820608317814\nShopping : 2.60707635009311\nUtilities : 2.5139664804469275\nSports : 2.1415270018621975\nMusic : 2.0484171322160147\nHealth & Fitness : 2.0173805090006205\nProductivity : 1.7380509000620732\nLifestyle : 1.5828677839851024\nNews : 1.3345747982619491\nTravel : 1.2414649286157666\nFinance : 1.1173184357541899\nWeather : 0.8690254500310366\nFood & Drink : 0.8069522036002483\nReference : 0.5586592178770949\nBusiness : 0.5276225946617008\nBook : 0.4345127250155183\nNavigation : 0.186219739292365\nMedical : 0.186219739292365\nCatalogs : 0.12414649286157665\n"
    }
   ],
   "source": [
    "display_table(ios_clean, -5)"
   ]
  },
  {
   "cell_type": "markdown",
   "metadata": {},
   "source": [
    "We can see that among the free English iOS App Store, Gaming apps are the most common with 58.16% making up more than half of the available apps. Entertainment and Photo apps follows with 7.88% and 4.97% each. Social Networking only makes up 3.30% of the apps and Productivity comes up to 1.74%. \n",
    "\n",
    "Even though gaming apps makes up more than half of the iOS App Store, it doesn't tells us that they are the ones with most users (installs). From the table above we can see that apps made for fun (games, entertainment, photos, social networking, music, sports) dominates the App Store against apps with practical purposes (education, utilities, shopping, productivity, lifestyle). \n",
    "\n",
    "We will now explore the most common genre in the Google Play Store. In this case we will base our research on the `Category` column, as the genre column is granular on the app description."
   ]
  },
  {
   "cell_type": "code",
   "execution_count": 21,
   "metadata": {},
   "outputs": [
    {
     "output_type": "stream",
     "name": "stdout",
     "text": "FAMILY : 18.905809362662154\nGAME : 9.723632261703328\nTOOLS : 8.460236886632826\nBUSINESS : 4.591088550479413\nLIFESTYLE : 3.914269599548787\nPRODUCTIVITY : 3.8917089678511\nFINANCE : 3.699943598420756\nMEDICAL : 3.5307388606880994\nSPORTS : 3.395375070501974\nPERSONALIZATION : 3.3164128595600673\nCOMMUNICATION : 3.2374506486181613\nHEALTH_AND_FITNESS : 3.0795262267343486\nPHOTOGRAPHY : 2.9441624365482233\nNEWS_AND_MAGAZINES : 2.7975183305132543\nSOCIAL : 2.662154540327129\nTRAVEL_AND_LOCAL : 2.33502538071066\nSHOPPING : 2.2447828539199097\nBOOKS_AND_REFERENCE : 2.143260011280316\nDATING : 1.8612521150592216\nVIDEO_PLAYERS : 1.793570219966159\nMAPS_AND_NAVIGATION : 1.3987591652566271\nFOOD_AND_DRINK : 1.2408347433728144\nEDUCATION : 1.161872532430908\nENTERTAINMENT : 0.9588268471517203\nLIBRARIES_AND_DEMO : 0.9362662154540328\nAUTO_AND_VEHICLES : 0.924985899605189\nHOUSE_AND_HOME : 0.8234630569655951\nWEATHER : 0.8009024252679076\nEVENTS : 0.7106598984771574\nPARENTING : 0.6542583192329385\nART_AND_DESIGN : 0.6429780033840948\nCOMICS : 0.6204173716864072\nBEAUTY : 0.5978567399887197\n"
    }
   ],
   "source": [
    "display_table(android_clean, 1)"
   ]
  },
  {
   "cell_type": "markdown",
   "metadata": {},
   "source": [
    "From the table above, we can see a different picture from the Google Play Store. The most common apps seems to be more into productivty as compared to the iOS App Store. Family takes first place with 18.91% of the store, followed by Games with 9.72. Moving down the list, we start seeing apps in the Tools, Business, Lifestyle, Productivity and Finance which covers up the productivy apps instead of gaming apps or others made for fun.\n",
    "\n",
    "From these two analysis, we can say that the iOS App Store is dominated by apps made for fun, while Google Play Store is more balanced between apps made for fun and apps made for productivty. With this in mind, we now want to find out which kind of apps have the most users."
   ]
  },
  {
   "cell_type": "markdown",
   "metadata": {},
   "source": [
    "One way to find out about the most popular genres (have most users) is to calculate the number of installs. In Google Play Store, we can use the `Installs` column to achieve this, but in the case of the iOS App Store, we will be using the `rating_count_tot` (number of total ratings) in order to get the most popular genre. In the code block below, we will be calculating the average number of ratings per genre in the App Store data set.\n",
    "\n",
    "### Most Popular Apps by Genre - iOS App Store"
   ]
  },
  {
   "cell_type": "code",
   "execution_count": 22,
   "metadata": {},
   "outputs": [
    {
     "output_type": "stream",
     "name": "stdout",
     "text": "Navigation : 86090.33333333333\nReference : 74942.11111111111\nSocial Networking : 71548.34905660378\nMusic : 57326.530303030304\nWeather : 52279.892857142855\nBook : 39758.5\nFood & Drink : 33333.92307692308\nFinance : 31467.944444444445\nPhoto & Video : 28441.54375\nTravel : 28243.8\nShopping : 26919.690476190477\nHealth & Fitness : 23298.015384615384\nSports : 23008.898550724636\nGames : 22788.6696905016\nNews :21248.023255813954\nProductivity : 21028.410714285714\nUtilities : 18684.456790123455\nLifestyle : 16485.764705882353\nEntertainment : 14029.830708661417\nBusiness : 7491.117647058823\nEducation : 7003.983050847458\nCatalogs : 4004.0\nMedical : 612.0\n"
    }
   ],
   "source": [
    "genres_ios = freq_table(ios_clean, -5)\n",
    "sorted_genres_ios = []\n",
    "\n",
    "for genre in genres_ios:\n",
    "    total = 0\n",
    "    len_genre = 0\n",
    "    for app in ios_clean:\n",
    "        genre_app = app[-5]\n",
    "        if genre_app == genre:\n",
    "            n_ratings = float(app[6])\n",
    "            total += n_ratings\n",
    "            len_genre += 1\n",
    "    avg_n_ratings = total / len_genre\n",
    "    sorted_genres_ios.append((avg_n_ratings, genre))\n",
    "    \n",
    "sorted_genres_ios = sorted(sorted_genres_ios, reverse=True)\n",
    "\n",
    "for entry in sorted_genres_ios:\n",
    "    print(entry[1], ':', entry[0])"
   ]
  },
  {
   "cell_type": "markdown",
   "metadata": {},
   "source": [
    "Based on our data above, we can clearly see that Navigation, Reference, Social Networking, Music and Weather are the top 5 most popular genres based on apps ratings count for the iOS App Store. We will now explore these genres to see which apps makes them so popular."
   ]
  },
  {
   "cell_type": "code",
   "execution_count": 23,
   "metadata": {},
   "outputs": [
    {
     "output_type": "stream",
     "name": "stdout",
     "text": "\nNavigation Apps\nWaze - GPS Navigation, Maps & Real-time Traffic : 345046\nGeocaching® : 12811\nImmobilienScout24: Real Estate Search in Germany : 187\nRailway Route Search : 5\nCoPilot GPS – Car Navigation & Offline Maps : 3582\nGoogle Maps - Navigation & Transit : 154911\n\nReference Apps\nBible : 985920\nDictionary.com Dictionary & Thesaurus : 200047\nDictionary.com Dictionary & Thesaurus for iPad : 54175\nMuslim Pro: Ramadan 2017 Prayer Times, Azan, Quran : 18418\nMerriam-Webster Dictionary : 16849\nGoogle Translate : 26786\nNight Sky : 12122\nWWDC : 762\nJishokun-Japanese English Dictionary & Translator : 0\n教えて!goo : 0\nVPN Express : 14\nNew Furniture Mods - Pocket Wiki & Game Tools for Minecraft PC Edition : 17588\nLUCKY BLOCK MOD ™ for Minecraft PC Edition - The Best Pocket Wiki & Mods Installer Tools : 4693\nGuides for Pokémon GO - Pokemon GO News and Cheats : 826\nHorror Maps for Minecraft PE - Download The Scariest Maps for Minecraft Pocket Edition (MCPE) Free : 718\nCity Maps for Minecraft PE - The Best Maps for Minecraft Pocket Edition (MCPE) : 8535\nGUNS MODS for Minecraft PC Edition - Mods Tools : 1497\nReal Bike Traffic Rider Virtual Reality Glasses : 8\n\nSocial Networking Apps\nFacebook : 2974676\nLinkedIn : 71856\nSkype for iPhone : 373519\nTumblr : 334293\nMatch™ - #1 Dating App. : 60659\nWhatsApp Messenger : 287589\nTextNow - Unlimited Text + Calls : 164963\nGrindr - Gay and same sex guys chat, meet and date : 23201\nimo video calls and chat : 18841\nAmeba : 269\nWeibo : 7265\nBadoo - Meet New People, Chat, Socialize. : 34428\nKik : 260965\nQzone : 1649\nFake-A-Location Free ™ : 354\nTango - Free Video Call, Voice and Chat : 75412\nMeetMe - Chat and Meet New People : 97072\nSimSimi : 23530\nViber Messenger – Text & Call : 164249\nFind My Family, Friends & iPhone - Life360 Locator : 43877\nWeibo HD : 16772\nPOF - Best Dating App for Conversations : 52642\nGroupMe : 28260\nLobi : 36\nWeChat : 34584\nooVoo – Free Video Call, Text and Voice : 177501\nPinterest : 1061624\n知乎 : 397\nQzone HD : 458\nSkype for iPad : 60163\nLINE : 11437\nQQ : 9109\nLOVOO - Dating Chat : 1985\nQQ HD : 5058\nMessenger : 351466\neHarmony™ Dating App - Meet Singles : 11124\nYouNow: Live Stream Video Chat : 12079\nCougar Dating & Life Style App for Mature Women : 213\nBattlefield™ Companion : 689\nWhisper - Share, Express, Meet : 39819\nWe Heart It - Fashion, wallpapers, quotes, tattoos : 90414\nFollowers - Social Analytics For Instagram : 112778\nInsTrack for Instagram - Analytics Plus More : 85535\nFollowers + for Instagram - Follower Analytics : 28633\nTimehop : 49510\nRepost for Instagram : 15185\nLINE PLAY - Your Avatar World : 34677\nNextdoor : 14402\nHangouts : 36404\nFollowMeter for Instagram - Followers Tracking : 11976\nTelegram Messenger : 7573\nChatous - Chat with new people : 1609\nQQ International : 274\nFireChat : 1037\nJodel : 1193\nWishbone - Compare Anything : 20649\nZenly - Locate your friends in realtime : 427\nTantan : 235\nFlinch - Video Chat Staring Contest : 2134\nbotman - Real time video chat : 7\n豆瓣 : 407\nMarco Polo Video Walkie Talkie : 27662\nAfter School - Funny Anonymous School News : 18482\nHighrise - Your Avatar Community : 2011\nQuick Reposter - Repost, Regram and Reshare Photos : 17694\nKiwi - Q&A : 1538\nPeriscope - Live Video Streaming Around the World : 6062\nInke—Broadcast an amazing life : 147\nDiscord - Chat for Gamers : 9152\nCandid - Speak Your Mind Freely : 398\nDown To Lunch : 2535\nSOMA Messenger : 3232\nRawr Messenger - Dab your chat : 180\nPopcorn Buzz - Free Group Calls : 281\nChain: Collaborate On MyVideo Story/Group Video : 35\nBestieBox : 0\nSelfeo : 366\nFollowers Analysis Tool For Instagram App Free : 4253\nHey! VINA - Where Women Meet New Friends : 719\nPlayStation®Messages : 1918\nWhenToPost: Best Time to Post Photos for Instagram : 158\nMATCH ON LINE chat : 0\nFiesta by Tango - Chat & Meet New People :885\nHouseparty - Group Video Chat : 3991\nAll Devices for WhatsApp - Messenger for iPad : 682\nPeach — share vividly : 727\nbit-tube - Live Stream Video Chat : 0\nMiitomo : 23965\nSoundCloud Pulse: for creators : 240\nIAmNaughty – Dating App to Meet New People Online : 463\nLeague of Legends Friends : 420\nGhostCodes - a discovery app for Snapchat : 1313\nlive.ly - live video streaming : 4145\nLive.me – Live Video Chat & Make Friends Nearby : 14724\nBOO! - Video chat camera with filters & stickers : 1805\nGoogle Allo — smart messaging : 862\nGoogle Duo - simple video calling : 1033\nChat for Whatsapp - iPad Version : 5060\nChat for Pokemon Go - GoChat : 500\nniconico ch : 0\nFollowers Analytics for Instagram - InstaReport : 13914\nMonkey : 3060\nLINE BLOG : 0\nMustknow - anonymous video Q&A : 53\nCTFxCmoji : 39\nFam — Group video calling for iMessage : 279\n\nMusic Apps\nPandora - Music & Radio : 1126879\nShazam - Discover music, artists, videos & lyrics : 402925\niHeartRadio – Free Music & Radio Stations : 293228\nDeezer - Listen to your Favorite Music & Playlists : 4677\nSonos Controller : 48905\nNRJ Radio : 38\nradio.de - Der Radioplayer : 64\nSpotify Music : 878563\nSoundCloud - Music & Audio : 135744\nSing Karaoke Songs Unlimited with StarMaker : 26227\nSoundHound Song Search & Music Player : 82602\nRingtones for iPhone & Ringtone Maker : 25403\nCoach Guitar - Lessons & Easy Tabs For Beginners : 2416\nTuneIn Radio - MLB NBA Audiobooks Podcasts Music : 110420\nMagic Piano by Smule : 131695\nQQ音乐HD : 224\nThe Singing Machine Mobile Karaoke App : 130\nBandsintown Concerts : 30845\nPetitLyrics : 0\nedjing Mix:DJ turntable to remix and scratch music : 13580\nSmule Sing! : 119316\nAmazon Music : 106235\nAutoRap by Smule : 18202\nMy Mixtapez Music : 26286\nCertified Mixtapes - Hip Hop Albums & Mixtapes : 9975\nKaraoke - Sing Karaoke, Unlimited Songs! : 28606\nNapster - Top Music & Radio : 14268\nMusi - Unlimited Music For YouTube : 25193\nUE BOOM : 612\nSpinrilla - Mixtapes For Free : 15053\nGoogle Play Music : 10118\nPiano - Play Keyboard Music Games with Magic Tiles : 1636\nBose SoundTouch : 3687\nDatPiff : 2815\nSounds app - Music And Friends : 5126\nSmart Music: Streaming Videos and Radio : 17\nFree Piano app by Yokee : 13016\nSimple Radio - Live AM & FM Radio Stations : 4787\nTrebel Music - Unlimited Music Downloader : 2570\nTIDAL : 7398\nAcapella from PicPlayPost : 2487\nMedly - Music Maker : 933\nAmazon Alexa : 3018\nMusic Freedom - Unlimited Free MP3 Music Streaming : 1246\nPlayGround • Music At Your Fingertips : 150\nMusical Video Maker - Create Music clips lip sync : 320\nFree Music Play - Mp3 Streamer & Player : 2496\nLiveMixtapes : 555\nAmpMe - A Portable Social Party Music Speaker : 1047\nNOISE : 355\nYouTube Music : 7109\nRingtones for iPhone with Ringtone Maker : 4013\nMusic Memos : 909\nMusicloud - MP3 and FLAC Music Player for Cloud Platforms. : 2211\nBose Connect : 915\nCloud Music Player - Downloader & Playlist Manager : 319\nRemixlive - Remix loops with pads : 288\nFree Music -  Player & Streamer  for Dropbox, OneDrive & Google Drive : 46\nBoom: Best Equalizer & Magical Surround Sound : 1375\nMP3 Music Player & Streamer for Clouds : 329\nNicki Minaj: The Empire : 5196\nSongFlip - Free Music Streamer : 5004\nBlocs Wave - Make & Record Music : 158\nMusic and Chill : 135\nFree Music - MP3 Streamer & Playlist Manager Pro : 13443\nBOSS Tuner : 13\n"
    }
   ],
   "source": [
    "def display_app_filter(dataset, name_index, filter_index, value_index, filter_str):\n",
    "    for app in dataset:\n",
    "        if app[filter_index] == filter_str:\n",
    "            print(app[name_index], ':', app[value_index])\n",
    "\n",
    "\n",
    "print('\\nNavigation Apps')\n",
    "display_app_filter(ios_clean, 2, -5, 6, 'Navigation')\n",
    "\n",
    "print('\\nReference Apps')\n",
    "display_app_filter(ios_clean, 2, -5, 6, 'Reference')\n",
    "\n",
    "print('\\nSocial Networking Apps')\n",
    "display_app_filter(ios_clean, 2, -5, 6, 'Social Networking')\n",
    "\n",
    "print('\\nMusic Apps')\n",
    "display_app_filter(ios_clean, 2, -5, 6, 'Music')"
   ]
  },
  {
   "cell_type": "markdown",
   "metadata": {},
   "source": [
    "From the data displayed above, we can see that __Navigation__, __Social Networking__, and __Music__ genre is out of the list for recommendation on an App profile, as these genres are dominated by specific apps such as Facebook, Skype, Waze, Google Maps, Pandora and Spotify; meanwhile the other apps in these genres struggle to reach the popularity of the others.\n",
    "\n",
    "Closely analysing the __Reference__ genre, we can clearly see that the most popular apps are the Bible, Dictionary and Thesaurus, Google Translate and the Quran. This niche seems to be a great candidate for an App Profile, since people don't usually spend much time in Weather apps and the other genres are already dominated by few apps.\n",
    "\n",
    "We can now explore the __Google Play Store__ data set.\n",
    "\n",
    "### Most Popular Apps by Genre - Google Play Store\n",
    "\n",
    "We will first explore few rows from the data set."
   ]
  },
  {
   "cell_type": "code",
   "execution_count": 24,
   "metadata": {},
   "outputs": [
    {
     "output_type": "stream",
     "name": "stdout",
     "text": "['App', 'Category', 'Rating', 'Reviews', 'Size', 'Installs', 'Type', 'Price', 'Content Rating', 'Genres', 'Last Updated', 'Current Ver', 'Android Ver']\n\n\n['Photo Editor & Candy Camera & Grid & ScrapBook', 'ART_AND_DESIGN', '4.1', '159', '19M', '10,000+', 'Free', '0', 'Everyone', 'Art & Design', 'January 7, 2018', '1.0.0', '4.0.3 and up']\n\n\n['U Launcher Lite – FREE Live Cool Themes, Hide Apps', 'ART_AND_DESIGN', '4.7', '87510', '8.7M', '5,000,000+', 'Free', '0', 'Everyone', 'Art & Design', 'August 1, 2018', '1.2.4', '4.0.3 and up']\n\n\n['Sketch - Draw & Paint', 'ART_AND_DESIGN', '4.5', '215644', '25M', '50,000,000+', 'Free', '0', 'Teen', 'Art & Design', 'June 8, 2018', 'Varies with device', '4.2 and up']\n\n\n['Pixel Draw - Number Art Coloring Book', 'ART_AND_DESIGN', '4.3', '967', '2.8M', '100,000+', 'Free', '0', 'Everyone', 'Art & Design;Creativity', 'June 20, 2018', '1.1', '4.4 and up']\n\n\n['Paper flowers instructions', 'ART_AND_DESIGN', '4.4', '167', '5.6M', '50,000+', 'Free', '0', 'Everyone', 'Art & Design', 'March 26, 2017', '1.0', '2.3 and up']\n"
    }
   ],
   "source": [
    "print(android_header)\n",
    "explore_data(android_clean)"
   ]
  },
  {
   "cell_type": "markdown",
   "metadata": {},
   "source": [
    "Even though on the Google Play data set we __do__ have data for number of installs, we can see that they are open-ended (10,000+, 100,000+). This data are not exact, therefore we will be using them as the exact value (10,000 for 10,000+, 100,000 for 100,000+). We will start with a frequency table for the number of installs.\n"
   ]
  },
  {
   "cell_type": "code",
   "execution_count": 25,
   "metadata": {},
   "outputs": [
    {
     "output_type": "stream",
     "name": "stdout",
     "text": "1,000,000+ : 15.724760293288211\n100,000+ : 11.551043429216017\n10,000,000+ : 10.547095318668923\n10,000+ : 10.197405527354766\n1,000+ : 8.403835307388608\n100+ : 6.91483361534123\n5,000,000+ : 6.824591088550479\n500,000+ : 5.561195713479977\n50,000+ : 4.771573604060913\n5,000+ : 4.512126339537507\n10+ : 3.542019176536943\n500+ : 3.248730964467005\n50,000,000+ : 2.3011844331641287\n100,000,000+ : 2.131979695431472\n50+ : 1.9176536943034406\n5+ : 0.7896221094190639\n1+ : 0.5076142131979695\n500,000,000+ : 0.2707275803722504\n1,000,000,000+ : 0.2256063169768754\n0+ : 0.04512126339537507\n0 : 0.011280315848843767\n"
    }
   ],
   "source": [
    "display_table(android_clean, 5)"
   ]
  },
  {
   "cell_type": "markdown",
   "metadata": {},
   "source": [
    "We will first convert the values in the `Installs` column into floats and compute averages for each category."
   ]
  },
  {
   "cell_type": "code",
   "execution_count": 26,
   "metadata": {},
   "outputs": [
    {
     "output_type": "stream",
     "name": "stdout",
     "text": "COMMUNICATION : 38456119.167247385\nVIDEO_PLAYERS : 24727872.452830188\nSOCIAL : 23253652.127118643\nPHOTOGRAPHY : 17840110.40229885\nPRODUCTIVITY : 16787331.344927534\nGAME : 15588015.603248259\nTRAVEL_AND_LOCAL : 13984077.710144928\nENTERTAINMENT : 11640705.88235294\nTOOLS : 10801391.298666667\nNEWS_AND_MAGAZINES : 9549178.467741935\nBOOKS_AND_REFERENCE : 8767811.894736841\nSHOPPING : 7036877.311557789\nPERSONALIZATION : 5201482.6122448975\nWEATHER : 5074486.197183099\nHEALTH_AND_FITNESS : 4188821.9853479853\nMAPS_AND_NAVIGATION : 4056941.7741935486\nFAMILY : 3695641.8198090694\nSPORTS : 3638640.1428571427\nART_AND_DESIGN : 1986335.0877192982\nFOOD_AND_DRINK : 1924897.7363636363\nEDUCATION : 1833495.145631068\nBUSINESS : 1712290.1474201474\nLIFESTYLE : 1433675.5878962537\nFINANCE : 1387692.475609756\nHOUSE_AND_HOME : 1331540.5616438356\nDATING : 854028.8303030303\nCOMICS : 817657.2727272727\nAUTO_AND_VEHICLES : 647317.8170731707\nLIBRARIES_AND_DEMO : 638503.734939759\nPARENTING : 542603.6206896552\nBEAUTY : 513151.88679245283\nEVENTS : 253542.22222222222\nMEDICAL : 120550.61980830671\n"
    }
   ],
   "source": [
    "categories_android = freq_table(android_clean, 1)\n",
    "sorted_android = []\n",
    "\n",
    "for category in categories_android:\n",
    "    total = 0\n",
    "    len_category = 0\n",
    "    for app in android_clean:\n",
    "        category_app = app[1]\n",
    "        if category_app == category:\n",
    "            n_installs = app[5]\n",
    "            n_installs = n_installs.replace(',', '')\n",
    "            n_installs = n_installs.replace('+', '')\n",
    "            total += float(n_installs)\n",
    "            len_category += 1\n",
    "    avg_n_installs = total / len_category\n",
    "\n",
    "    sorted_android.append((avg_n_installs, category))\n",
    "\n",
    "sorted_android  = sorted(sorted_android, reverse=True)\n",
    "for entry in sorted_android:\n",
    "    print(entry[1], \":\", entry[0])"
   ]
  },
  {
   "cell_type": "markdown",
   "metadata": {},
   "source": [
    "From the data above, we can see that the communcation category leads the genres with 38,456,119 approximate installs, follow by video players and social apps. Based on our data from the App Store, we know that there are some specific apps that skews these comparisons dramatically, such as giants like Facebook, WhatsApp, YouTube, etc. Let's explore these categories further to see if we have the same case with Google Play Store."
   ]
  },
  {
   "cell_type": "code",
   "execution_count": 27,
   "metadata": {},
   "outputs": [
    {
     "output_type": "stream",
     "name": "stdout",
     "text": "WhatsApp Messenger : 1,000,000,000+\nMessenger for SMS : 10,000,000+\nMy Tele2 : 5,000,000+\nimo beta free calls and text : 100,000,000+\nContacts : 50,000,000+\nCall Free – Free Call : 5,000,000+\nWeb Browser & Explorer : 5,000,000+\nBrowser 4G : 10,000,000+\nMegaFon Dashboard : 10,000,000+\nZenUI Dialer & Contacts : 10,000,000+\nCricket Visual Voicemail : 10,000,000+\nTracFone My Account : 1,000,000+\nXperia Link™ : 10,000,000+\nTouchPal Keyboard - Fun Emoji & Android Keyboard : 10,000,000+\nSkype Lite - Free Video Call & Chat : 5,000,000+\nMy magenta : 1,000,000+\nAndroid Messages : 100,000,000+\nGoogle Duo - High Quality Video Calls : 500,000,000+\nSeznam.cz : 1,000,000+\nAntillean Gold Telegram (original version) : 100,000+\nAT&T Visual Voicemail : 10,000,000+\nGMX Mail : 10,000,000+\nOmlet Chat : 10,000,000+\nMy Vodacom SA : 5,000,000+\nMicrosoft Edge : 5,000,000+\nMessenger – Text and Video Chat for Free : 1,000,000,000+\nimo free video calls and chat : 500,000,000+\nCalls & Text by Mo+ : 5,000,000+\nfree video calls and chat : 50,000,000+\nSkype - free IM & video calls : 1,000,000,000+\nWho : 100,000,000+\nGO SMS Pro - Messenger, Free Themes, Emoji : 100,000,000+\nMessaging+ SMS, MMS Free : 1,000,000+\nchomp SMS : 10,000,000+\nGlide - Video Chat Messenger : 10,000,000+\nText SMS : 10,000,000+\nTalkray - Free Calls & Texts : 10,000,000+\nLINE: Free Calls & Messages : 500,000,000+\nGroupMe : 10,000,000+\nmysms SMS Text Messaging Sync : 1,000,000+\n2ndLine - Second Phone Number : 1,000,000+\nGoogle Chrome: Fast & Secure : 1,000,000,000+\nFirefox Browser fast & private : 100,000,000+\nNinesky Browser : 1,000,000+\nDolphin Browser - Fast, Private & Adblock🐬 : 50,000,000+\nUC Browser - Fast Download Private & Secure : 500,000,000+\nGhostery Privacy Browser : 1,000,000+\nInBrowser - Incognito Browsing : 1,000,000+\nLightning Web Browser : 500,000+\nWeb Browser : 500,000+\nContacts+ : 10,000,000+\nExDialer - Dialer & Contacts : 10,000,000+\nPHONE for Google Voice & GTalk : 1,000,000+\nSafest Call Blocker : 1,000,000+\nFull Screen Caller ID : 5,000,000+\nHiya - Caller ID & Block : 10,000,000+\nMr. Number-Block calls & spam : 10,000,000+\nShould I Answer? : 1,000,000+\nRocketDial Dialer & Contacts : 1,000,000+\nCIA - Caller ID & Call Blocker : 5,000,000+\nCalls Blacklist - Call Blocker : 10,000,000+\nCall Control - Call Blocker : 5,000,000+\nTrue Contact - Real Caller ID : 1,000,000+\nVideo Caller Id : 1,000,000+\nSync.ME – Caller ID & Block : 5,000,000+\nBurner - Free Phone Number : 1,000,000+\nCaller ID + : 1,000,000+\nGmail : 1,000,000,000+\nK-9 Mail : 5,000,000+\nmyMail – Email for Hotmail, Gmail and Outlook Mail : 10,000,000+\nEmail TypeApp - Mail App : 1,000,000+\nAll Email Providers : 1,000,000+\nNewton Mail - Email App for Gmail, Outlook, IMAP : 1,000,000+\nGO Notifier : 10,000,000+\nMail.Ru - Email App : 50,000,000+\nMail1Click - Secure Mail : 10,000+\nDaum Mail - Next Mail : 5,000,000+\nmail.com mail : 1,000,000+\nSolMail - All-in-One email app : 500,000+\nHangouts : 1,000,000,000+\nVonage Mobile® Call Video Text : 1,000,000+\nJusTalk - Free Video Calls and Fun Video Chat : 5,000,000+\nAzar : 50,000,000+\nLokLok: Draw on a Lock Screen : 500,000+\nDiscord - Chat for Gamers : 10,000,000+\nMessenger Lite: Free Calls & Messages : 100,000,000+\nAntennaPict β : 1,000,000+\nTalkatone: Free Texts, Calls & Phone Number : 10,000,000+\nKik : 100,000,000+\nK-@ Mail - Email App : 100,000+\nKakaoTalk: Free Calls & Text : 100,000,000+\nK-9 Material (unofficial) : 5,000+\nM star Dialer : 100,000+\nFree WiFi Connect : 10,000,000+\nm:go BiH : 10,000+\nN-Com Wizard : 50,000+\nOpera Mini - fast web browser : 100,000,000+\nOpera Browser: Fast and Secure : 100,000,000+\nOpera Mini browser beta : 10,000,000+\nPsiphon Pro - The Internet Freedom VPN : 10,000,000+\nICQ — Video Calls & Chat Messenger : 10,000,000+\nTelegram : 100,000,000+\nAT&T Messages for Tablet : 1,000,000+\nT-Mobile DIGITS : 100,000+\nTruecaller: Caller ID, SMS spam blocking & Dialer : 100,000,000+\nPortable Wi-Fi hotspot : 10,000,000+\nAT&T Call Protect : 5,000,000+\nU - Webinars, Meetings & Messenger : 500,000+\nUC Browser Mini -Tiny Fast Private & Secure : 100,000,000+\n/u/app : 10,000+\n[verify-U] VideoIdent : 10,000+\nViber Messenger : 500,000,000+\nWeChat : 100,000,000+\nWhatsApp Business : 10,000,000+\nWhatsCall Free Global Phone Call App & Cheap Calls : 10,000,000+\nX Browser : 50,000+\nYahoo Mail – Stay Organized : 100,000,000+\nFree Adblocker Browser - Adblock & Popup Blocker : 10,000,000+\nAdblock Browser for Android : 10,000,000+\nCM Browser - Ad Blocker , Fast Download , Privacy : 50,000,000+\nAdblock Plus for Samsung Internet - Browse safe. : 1,000,000+\nAd Blocker Turbo - Adblocker Browser : 10,000+\nBrave Browser: Fast AdBlocker : 5,000,000+\nAG Contacts, Lite edition : 5,000+\nOklahoma Ag Co-op Council : 10+\nBee'ah Employee App : 100+\ntournaments and more.aj.2 : 100+\nAj.Petra : 100+\nAK Phone : 5,000+\nPlacarTv Futebol Ao Vivo : 100,000+\nWiFi Access Point (hotspot) : 100,000+\nAccess Point Names : 10,000+\nPuffin Web Browser : 10,000,000+\nClanHQ : 10,000+\nEar Agent: Super Hearing : 5,000,000+\nGoogle Voice : 10,000,000+\nGoogle Allo : 10,000,000+\nAU Call Blocker - Block Unwanted Calls Texts 2018 : 1,000+\nBaby Monitor AV : 100,000+\nAV Phone : 1,000+\nAW - free video calls and chat : 1,000,000+\nKatalogen.ax : 100+\nAZ Browser. Private & Download : 100,000+\nBA SALES : 1+\nBD Data Plan (3G & 4G) : 500,000+\nBD Internet Packages (Updated) : 50,000+\nBD Dialer : 10,000+\nBD Live Call : 5,000+\nBest Browser BD social networking : 10+\nTraffic signs BD : 500+\nBF Browser by Betfilter - Stop Gambling Today! : 10,000+\nMy BF App : 50,000+\nBH Mail : 1,000+\nZalo – Video Call : 50,000,000+\nBJ - Confidential : 10+\nBK Chat : 1,000+\nOf the wall Arapaho bk : 5+\nAC-BL : 50+\nBBM - Free Calls & Messages : 100,000,000+\nDMR BrandMeister Tool : 10,000+\nBBMoji - Your personalized BBM Stickers : 1,000,000+\nBN MALLORCA Radio : 1,000+\nBQ Partners : 1,000+\nBS-Mobile : 50+\nATC Unico BS : 500+\nBT One Voice mobile access : 5,000+\nBT Messenger : 50,000+\nBT One Phone Mobile App : 10,000+\nSW-100.tch by Callstel : 1,000,000+\nBT MeetMe with Dolby Voice : 100,000+\nBluetooth Auto Connect : 5,000,000+\nAudioBT: BT audio GPS/SMS/Text : 50,000+\nBV : 100+\nFeel Performer : 10,000+\nTiny Call Confirm : 1,000,000+\nCB Radio Chat - for friends! : 1,000,000+\nCB On Mobile : 100,000+\nVirtual Walkie Talkie : 1,000,000+\nChannel 19 : 100,000+\nCb browser : 50+\nCF Chat: Connecting Friends : 100+\nretteMi.ch : 5,000+\nChrome Dev : 5,000,000+\nCJ Browser - Fast & Private : 100+\nCJ DVD Rentals : 100+\nCK Call NEW : 10+\nCM Transfer - Share any files with friends nearby : 5,000,000+\nmail.co.uk Mail : 5,000+\nClanPlay: Community and Tools for Gamers : 1,000,000+\nCQ-Mobile : 1,000+\nCQ-Alert : 500+\nQRZ Assistant : 100,000+\nPocket Prefix Plus : 10,000+\nHam Radio Prefixes : 10,000+\nCS Customizer : 1,000+\nCS Browser | #1 & BEST BROWSER : 1,000+\nCS Browser Beta : 5,000+\nMy Vodafone (GR) : 1,000,000+\nIZ2UUF Morse Koch CW : 50,000+\nC W Browser : 100+\nCW Bluetooth SPP : 100+\nCW BLE Peripheral Simulator : 500+\nMorse Code Reader : 100,000+\nLearn Morse Code - G0HYN Learn Morse : 5,000+\nRing : 10,000+\nHyundai CX Conference : 50+\nCy Messenger : 100+\nAmadeus GR & CY : 100+\nHlášenírozhlasu.cz : 10+\nSMS Sender - sluzba.cz : 1,000+\nWEB.DE Mail : 10,000,000+\nYour Freedom VPN Client : 5,000,000+\nCallApp: Caller ID, Blocker & Phone Call Recorder : 10,000,000+\nRádio Sol Nascente DF : 500+\nDG Card : 100+\nWhoscall - Caller ID & Block : 10,000,000+\nDK Browser : 10+\ncluster.dk : 1,000+\nDK TEL Dialer : 50+\nDM for WhatsApp : 5,000+\nDM Talk New : 5,000+\nDM - The Offical Messaging App : 10+\nDM Tracker : 1,000+\nCall Blocker & Blacklist : 1,000+\nReadyOp DT : 1,000+\nDU Browser—Browse fast & fun : 10,000,000+\nCaller ID & Call Block - DU Caller : 5,000,000+\nBlueDV AMBE : 1,000+\nDW Contacts & Phone & Dialer : 1,000,000+\nDeaf World DW : 10,000+\nHam DX Cluster & Spots Finder : 5,000+\nMircules DX Cluster Lite : 5,000+\n3G DZ Configuration : 50,000+\nchat dz : 100+\nlove sms good morning : 5,000+\nGoodbox - Mega App : 100,000+\nCall Blocker - Blacklist, SMS Blocker : 1,000,000+\n[EF]ShoutBox : 100+\nEg Call : 10,000+\nei : 10+\nEJ messenger : 10+\nEk IRA : 10+\nOrfox: Tor Browser for Android : 10,000,000+\nEO Mumbai : 10+\nEP RSS Reader : 100+\nVoxer Walkie Talkie Messenger : 10,000,000+\nES-1 : 500+\nHangouts Dialer - Call Phones : 10,000,000+\nEU Council : 1,000+\nCouncil Voting Calculator : 5,000+\nHave your say on Europe : 500+\nProgrami podrške EU : 100+\nInbox.eu : 10,000+\nWeb Browser for Android : 1,000,000+\nEverbridge : 100,000+\nBest Auto Call Recorder Free : 500+\nEZ Wifi Notification : 10,000+\nTest Server SMS FA : 5+\nLite for Facebook Messenger : 1,000,000+\nFC Browser - Focus Privacy Browser : 1,000+\nEHiN-FH conferenceapp : 100+\nCarpooling FH Hagenberg : 100+\nWi-Fi Auto-connect : 1,000,000+\nTalkie - Wi-Fi Calling, Chats, File Sharing : 500,000+\nWeFi - Free Fast WiFi Connect & Find Wi-Fi Map : 1,000,000+\nSat-Fi : 5,000+\nPortable Wi-Fi hotspot Free : 100,000+\nTownWiFi | Wi-Fi Everywhere : 500,000+\nJazz Wi-Fi : 10,000+\nSat-Fi Voice : 1,000+\nFree Wi-fi HotspoT : 50,000+\nFN Web Radio : 10+\nFNH Payment Info : 10+\nMARKET FO : 100+\nFO OP St-Nazaire : 100+\nFO SODEXO : 100+\nFO RCBT : 100+\nFO Interim : 100+\nFO PSA Sept-Fons : 100+\nFO AIRBUS TLSE : 1,000+\nFO STELIA Méaulte : 100+\nFO AIRBUS Nantes : 100+\nFirefox Focus: The privacy browser : 1,000,000+\nFP Connect : 100+\nFreedomPop Messaging Phone/SIM : 500,000+\nFP Live : 10+\nHipChat - beta version : 50,000+\n"
    }
   ],
   "source": [
    "display_app_filter(android_clean, 0, 1, 5, 'COMMUNICATION')"
   ]
  },
  {
   "cell_type": "code",
   "execution_count": 28,
   "metadata": {},
   "outputs": [
    {
     "output_type": "stream",
     "name": "stdout",
     "text": "YouTube : 1,000,000,000+\nAll Video Downloader 2018 : 1,000,000+\nVideo Downloader : 10,000,000+\nHD Video Player : 1,000,000+\nIqiyi (for tablet) : 1,000,000+\nVideo Player All Format : 10,000,000+\nMotorola Gallery : 100,000,000+\nFree TV series : 100,000+\nVideo Player All Format for Android : 500,000+\nVLC for Android : 100,000,000+\nCode : 10,000,000+\nVote for : 50,000,000+\nXX HD Video downloader-Free Video Downloader : 1,000,000+\nOBJECTIVE : 1,000,000+\nMusic - Mp3 Player : 10,000,000+\nHD Movie Video Player : 1,000,000+\nYouCut - Video Editor & Video Maker, No Watermark : 5,000,000+\nVideo Editor,Crop Video,Movie Video,Music,Effects : 1,000,000+\nYouTube Studio : 10,000,000+\nvideo player for android : 10,000,000+\nVigo Video : 50,000,000+\nGoogle Play Movies & TV : 1,000,000,000+\nHTC Service － DLNA : 10,000,000+\nVPlayer : 1,000,000+\nMiniMovie - Free Video and Slideshow Editor : 50,000,000+\nSamsung Video Library : 50,000,000+\nOnePlus Gallery : 1,000,000+\nLIKE – Magic Video Maker & Community : 50,000,000+\nHTC Service—Video Player : 5,000,000+\nPlay Tube : 1,000,000+\nDroid Zap by Motorola : 5,000,000+\nvideo player : 1,000,000+\nG Guide Program Guide (SOFTBANK EMOBILE WILLCOM version) : 1,000,000+\nVideo.Guru - Video Maker : 1,000,000+\nHTC Gallery : 10,000,000+\nPowerDirector Video Editor App: 4K, Slow Mo & More : 10,000,000+\nCartoon Network App : 10,000,000+\nVideo Status : 1,000,000+\nVideo Wallpaper Show : 500+\nSVT Play : 1,000,000+\nBluTV : 1,000,000+\nTencent Video - Supporting the whole network : 1,000,000+\nCasper Ssinema : 10,000+\namazer - Global Kpop Video Community : 100,000+\nMX Player : 500,000,000+\nVideo Editor : 5,000,000+\nOmlet Arcade - Stream, Meet, Play : 10,000,000+\nVUE: video editor & camcorder : 1,000,000+\nMagisto Video Editor & Maker : 10,000,000+\nDubsmash : 100,000,000+\nDU Recorder – Screen Recorder, Video Editor, Live : 50,000,000+\nKineMaster – Pro Video Editor : 50,000,000+\nMobizen Screen Recorder for SAMSUNG : 10,000,000+\nMobizen Screen Recorder for LG - Record, Capture : 1,000,000+\nM-Sight Pro : 5,000+\nSketch 'n' go : 100,000+\nQ-See Plus : 5,000+\nUstream : 10,000,000+\nVMate : 50,000,000+\nAll Video Downloader : 10,000,000+\nVidPlay : 1,000,000+\nHD Video Downloader : 2018 Best video mate : 50,000,000+\nVivaVideo - Video Editor & Photo Movie : 100,000,000+\nVideoShow-Video Editor, Video Maker, Beauty Camera : 100,000,000+\nW Box VMS : 10,000+\nW Box VMS HD : 5,000+\nAB Repeat Player : 100,000+\nA-B repeater : 5,000+\nEz Screen Recorder (no ad) : 100,000+\nAdobe Premiere Clip : 5,000,000+\nFilmoraGo - Free Video Editor : 10,000,000+\nActionDirector Video Editor - Edit Videos Fast : 5,000,000+\nAJ Player : 100+\nAK Lodi Films : 100+\nWiFi Baby Monitor - NannyCam : 5,000,000+\nRingdroid : 50,000,000+\nMultiple Videos at Same Time : 1,000,000+\nAV-IPTV : 1,000+\nHD Video Player (wmv,avi,mp4,flv,av,mpg,mkv)2017 : 10,000+\nHD Video Player - Video & MP3 Player | AV Player | : 5,000+\nEML UPnP-AV Control Point : 10,000+\nAW Screen Recorder No Root : 100,000+\nAX Player -Nougat Video Player : 1,000,000+\nAX Video Player : 50,000+\nAy : 5,000+\nAy Sabz Gunbad Waly : 1,000+\niMediaShare – Photos & Music : 10,000,000+\nAZ Screen Recorder - No Root : 10,000,000+\nMovie Downloader Torrent : Az Torrent : 1,000+\nA-Z Screen Recorder - : 500+\nBC iptv player : 1,000+\nBc Vod : 100+\nFunny videos for whatsapp : 1,000,000+\nBG video - floating video - background video : 5,000+\nBG MUSIC PLAYER - MUSIC PLAYER : 100+\nbgtime.tv : 50,000+\nYourTube Video Views BG : 500+\nMusic for Youtube - Tube Music BG, Red+ : 1,000+\nBGCN TV : 100,000+\nAfreecaTV : 10,000,000+\nBK News Channel : 10,000+\nBR Video Player : 5,000+\nBR Series : 50,000+\nCINE BR : 1,000+\niPlayIT for YouTube VR Player : 1,000,000+\nBSPlayer FREE : 10,000,000+\nBSPlayer ARMv7 VFP CPU support : 1,000,000+\nBS player remote : 10,000+\nBitTorrent®- Torrent Downloads : 10,000,000+\nBx-WiFi-GI : 100+\nBZ Langenthaler Tagblatt : 1,000+\nNero AirBurn : 100,000+\nCI Stream : 10+\nCJ Camcorder : 500+\nCJ VLC HD Remote (+ Stream) : 500,000+\nACTIVEON CX & CX GOLD : 50,000+\nCX Monthly Tech News : 500+\nDG UPnP Player Free : 10,000+\nDG Screen Recorder : 500+\nDG Video Editor : 10,000+\nVideo Downloader - for Instagram Repost App : 10,000,000+\nQuik – Free Video Editor for photos, clips, music : 10,000,000+\nFrostWire: Torrent Downloader & Music Player : 10,000,000+\nInst Download - Video & Photo : 10,000,000+\nVuze Torrent Downloader : 1,000,000+\nAndStream - Streaming Download : 1,000,000+\nDR TV : 500,000+\nDS photo : 1,000,000+\nDS video : 1,000,000+\nDU Privacy-hide apps、sms、file : 1,000,000+\niSmart DV : 1,000,000+\ndv Prompter : 50,000+\nDV Lottery Photo : 5,000+\nMelifeCam-M : 10,000+\nGoPlus Cam : 500,000+\nGoAction : 100,000+\n4K VIDEO PLAYER ULTRA HD : 5,000+\nDownvids Helper - One touch DW : 10,000+\nDZ Popup Video Player : 5,000+\nEC MANAGER : 100+\nEF Sidekick : 5,000+\nek tuhi : 10,000+\nNaruto Shippuden - Watch Free! : 10,000,000+\nES Audio Player ( Shortcut ) : 100,000+\nFurrion ES Control : 5,000+\nES-IPTV : 50,000+\nEZCast – Cast Media to TV : 1,000,000+\nEZ Web Video Cast | Chromecast : 100,000+\nEZ-SEE : 10,000+\nEZ TV Player : 10,000+\nEZ Usenet for Easynews® : 10,000+\nEZ game screen recorder with audio 1080P : 1,000+\nVideos downloader for Facebook:fast fb video saver : 5,000+\nVideo Downloader for FB : Video Download with Link : 100,000+\nHD VideoDownlaoder For Fb : XXVideo Downloader : 10,000+\nHD Video Download for Facebook : 1,000,000+\nArt of F J Taylor : 10+\nMotorola FM Radio : 100,000,000+\nList iptv FR : 100+\n"
    }
   ],
   "source": [
    "display_app_filter(android_clean, 0, 1, 5, 'VIDEO_PLAYERS')"
   ]
  },
  {
   "cell_type": "code",
   "execution_count": 29,
   "metadata": {},
   "outputs": [
    {
     "output_type": "stream",
     "name": "stdout",
     "text": "Facebook : 1,000,000,000+\nFacebook Lite : 500,000,000+\nTumblr : 100,000,000+\nSocial network all in one 2018 : 100,000+\nPinterest : 100,000,000+\nTextNow - free text + calls : 10,000,000+\nGoogle+ : 1,000,000,000+\nThe Messenger App : 1,000,000+\nMessenger Pro : 1,000,000+\nFree Messages, Video, Chat,Text for Messenger Plus : 1,000,000+\nTelegram X : 5,000,000+\nThe Video Messenger App : 100,000+\nJodel - The Hyperlocal App : 1,000,000+\nHide Something - Photo, Video : 5,000,000+\nLove Sticker : 1,000,000+\nWeb Browser & Fast Explorer : 5,000,000+\nLiveMe - Video chat, new friends, and make money : 10,000,000+\nVidStatus app - Status Videos & Status Downloader : 5,000,000+\nLove Images : 1,000,000+\nWeb Browser ( Fast & Secure Web Explorer) : 500,000+\nSPARK - Live random video chat & meet new people : 5,000,000+\nGolden telegram : 50,000+\nFacebook Local : 1,000,000+\nMeet – Talk to Strangers Using Random Video Chat : 5,000,000+\nMobilePatrol Public Safety App : 1,000,000+\n💘 WhatsLov: Smileys of love, stickers and GIF : 1,000,000+\nHTC Social Plugin - Facebook : 10,000,000+\nQuora : 10,000,000+\nKate Mobile for VK : 10,000,000+\nFamily GPS tracker KidControl + GPS by SMS Locator : 1,000,000+\nMoment : 1,000,000+\nText Me: Text Free, Call Free, Second Phone Number : 10,000,000+\nText Free: WiFi Calling App : 5,000,000+\nBadoo - Free Chat & Dating App : 100,000,000+\nText free - Free Text + Call : 10,000,000+\nTango - Live Video Broadcast : 100,000,000+\nooVoo Video Calls, Messaging & Stories : 50,000,000+\nWhisper : 5,000,000+\nBlogger : 5,000,000+\nBloglovin' : 500,000+\nBlogaway for Android (Blogger) : 100,000+\nInstagram : 1,000,000,000+\nTwitCasting Live : 1,000,000+\nStream - Live Video Community : 500,000+\nYouNow: Live Stream Video Chat : 10,000,000+\nMirrativ: Live Stream Any App : 500,000+\nSnapchat : 500,000,000+\nBanjo : 1,000,000+\nWe Heart It : 10,000,000+\nMeetMe: Chat & Meet New People : 50,000,000+\nTimehop : 5,000,000+\nFrontback - Social Photos : 1,000,000+\nLinkedIn : 100,000,000+\nPath : 10,000,000+\nSayHi Chat, Meet New People : 10,000,000+\nTapatalk - 100,000+ Forums : 10,000,000+\nCouple - Relationship App : 1,000,000+\nNextdoor - Local neighborhood news & classifieds : 5,000,000+\nLOVOO : 10,000,000+\nJaumo Dating, Flirt & Live Video : 10,000,000+\nPatook - make platonic friends : 100,000+\nZello PTT Walkie Talkie : 50,000,000+\ntextPlus: Free Text & Calls : 10,000,000+\nmagicApp Calling & Messaging : 10,000,000+\nDating App, Flirt & Chat : W-Match : 10,000,000+\nuCiC- Videos and Photos on demand : 100,000+\nMeetup : 5,000,000+\nPOF Free Dating App : 50,000,000+\nTagged - Meet, Chat & Dating : 10,000,000+\nSKOUT - Meet, Chat, Go Live : 50,000,000+\nMico- Stranger Chat Random video Chat, Live, Meet : 10,000,000+\nWaplog - Free Chat, Dating App, Meet Singles : 10,000,000+\nTik Tok - including musical.ly : 100,000,000+\nB-Messenger Video Chat : 1,000,000+\nBIGO LIVE - Live Stream : 100,000,000+\nGreeting Cards & Wishes : 500,000+\nShare G - Images Sharing - Wallpapers App : 10,000+\nH letter images : 1,000+\nInstachat 😜 : 5,000,000+\nFame Boom for Real Followers, Likes : 5,000,000+\nFollowMeter for Instagram : 1,000,000+\nMali J : 10,000+\nKDRAMA Amino for K-Drama Fans : 100,000+\nKPOP Amino for K-Pop Entertainment : 100,000+\nEXO-L Amino for EXO Fans : 50,000+\nVerdad o Reto : 500,000+\npixiv : 1,000,000+\nJoin R, Community Engagement : 1,000+\nU LIVE – Video Chat & Stream : 1,000,000+\nSee U - Random video chat, video chat : 100,000+\nWhat U See : 100,000+\nU-Report : 10,000+\nMeet U - Get Friends for Snapchat, Kik & Instagram : 100,000+\nVMate Lite - Funny Short Videos Social Network : 1,000,000+\nV Bucks ProTips New : 1,000+\ni-share AF/KLM (AFKL ishare) : 100+\nEternal Light AG : 100+\nMessage AI - Write Better Messages (Free) : 100+\nJamaa Amino for Animal Jam : 10,000+\nLegend - Animate Text in Video : 10,000,000+\nGUYZ - Gay Chat & Gay Dating : 1,000,000+\neChallan Andhra Pradesh (AP) : 1,000+\nSnaappy – 3D fun AR core communication platform : 1,000,000+\nUndertale AU Amino : 50,000+\nAu Pair : 10,000+\nMedia Sosial TNI AU : 1,000+\nBA 3 Banjarmasin : 10+\niCard BD Plus : 500+\nMovement BE : 100+\nYAY - TBH : 100,000+\nFind My Friends : 10,000,000+\nBG LINKED (BGLINKED) : 1,000+\nZdravei.BG : 1,000+\nBGKontakti London BG Kontakti : 500+\nBGKontakti Bayern BG Kontakti : 1,000+\nBGKontakti Vienna BG Kontakti : 1,000+\nDiscípulos em BH: 100+\nBH Connect : 1+\nGayvox - Gay Lesbian Bi Dating : 500,000+\nGrindr - Gay chat : 10,000,000+\nLesbian Chat & Dating - SPICY : 1,000,000+\nAlumni BJ : 100+\nVK : 100,000,000+\nBK Traffic Control cum Chart : 10,000+\nDaily Murli Saar Widget : 10,000+\nMyjob@BM : 100+\nbm-Events : 10+\nBOO! - Next Generation Messenger : 1,000,000+\nWishbone - Compare Anything : 1,000,000+\nBR Chat Bot : 1,000+\nBr Browser : 500+\nDr B R Ambedkar (Jai Bhim) : 100,000+\nDr. B.R.Ambedkar : 100,000+\nBlack Social : 1,000+\nBT Communicator : 10,000+\nBT Dating -Find your match, help cupid, be social : 50,000+\nFiesta by Tango - Find, Meet and Make New Friends : 1,000,000+\nEvasion.bz : 100+\nCB Heroes : 5+\nCG Districts : 1,000+\nDigi-TV.ch : 10,000+\nStudents.ch : 1,000+\nCJ Gospel Hour : 100+\nPekalongan CJ : 0+\nHashtags For Likes.co : 50,000+\nCP Dialer : 50,000+\nC.P. CERVANTES (TOBARRA) : 5+\nCyprus Police : 10,000+\nRande.cz : 50,000+\nsignály.cz : 1,000+\nDB Event App : 5,000+\nDC Comics Amino : 1,000+\nDF BugMeNot : 500+\nNoticias DF : 1,000+\nPeriscope - Live Video : 10,000,000+\nDaddyhunt: Gay Dating : 500,000+\nFree phone calls, free texting SMS on free number : 10,000,000+\nPhone Tracker : Family Locator : 10,000,000+\nHOLLA Live: Meet New People via Random Video Chat : 5,000,000+\nDating.dk : 100,000+\nDK Murali : 500+\nGirlTalk.dk : 100+\n+Download 4 Instagram Twitter : 1,000,000+\nDM Me - Chat : 10,000+\nDM for IG 😘 - Image & Video Saver for Instagram : 5,000+\nAuto DM for Twitter 🔥 : 1,000+\nDM Storage (for twitter) : 100+\nFake Chat (Direct Message) : 500,000+\nOtto DM : 10+\nDN Blog : 10+\nDP and Status for WhatsApp 2018 : 100,000+\nDp For Whatsapp : 5,000+\nProfile Pictures and DP for Whatsapp : 5,000+\nDp for Facebook : 5,000+\nBest DP and Status : 10,000+\nInstant DP Downloader for Instagram : 5,000+\nDP Display Pictures Life Quotes Motivational GM : 5,000+\nQeek for Instagram - Zoom profile insta DP : 500,000+\nDV Statistics : 100+\nDW Streaming : 1,000+\nNews Dz : 10+\nquran-DZ : 10+\nTN e Sevai TN EB Bill Patta Citta EC Birth All Hub : 5,000+\nTNEB Bill Online Payment (Tamil) : 5,000+\nUP EB Bill Payment & Details : 50+\nTN EC Online New : 1,000+\nTN Patta /Chitta /EC New : 100+\nEG Way Life : 50+\nEquestria Amino for MLP : 50,000+\nEk Maratha : 10,000+\nHum Ek Hain 2.02 : 10+\nSabka Malik Ek Sai : 1,000+\nEO RAIPUR : 10+\nAnime et Manga Amino en Français : 50,000+\nHornet - Gay Social Network : 5,000,000+\nAmino: Communities and Chats : 10,000,000+\nEuropean Solidarity Corps : 1,000+\nReisedealz.eu : 10+\nEddsworld Amino : 10,000+\nRejoin Your Ex : 100+\nAmleen Ey : 1+\nCoupe Adhémar EY 2017 : 50+\nEZ Video Download for Facebook : 1,000,000+\nMessages, Text and Video Chat for Messenger : 10,000,000+\nAll Social Networks : 1,000,000+\nMessenger Messenger : 10,000,000+\nFacebook Creator : 1,000,000+\nSwift for Facebook Lite : 500,000+\nFriendly for Facebook : 1,000,000+\nFaster for Facebook Lite : 1,000,000+\nPuffin for Facebook : 500,000+\nProfile Tracker - Who Viewed My Facebook Profile : 500,000+\nPink Color for Facebook : 500,000+\nMessenger : 10,000,000+\nStickers for Imo, fb, whatsapp : 10,000+\nWho Viewed My Facebook Profile - Stalkers Visitors : 5,000,000+\nDownloader plus for FB : 500+\nMB Notifications for FB (Free) : 100,000+\nPhoenix - Facebook & Messenger : 100,000+\nFaster Social for Facebook : 100,000+\nCheck Your Visitors on FB ? : 5,000+\nStickers for Facebook : 1,000,000+\nLite Messenger for Facebook Lite : 10,000+\nMini for Facebook lite : 10,000+\nFB Advanced Search : 50+\nfunny Image Comments for FB : 5,000+\nUnlimited Group Links - Whatsapp, FB, Telegram : 10,000+\nFCB Connect - FC Barcelona : 50,000+\nFrases Cristianas de Esperanza y Fe : 100+\nFutureNet your social app : 100,000+\nAlarm.fo – choose your info : 1,000+\nFunForMobile Ringtones & Chat : 5,000,000+\nChat For Strangers - Video Chat : 100,000+\nFr Daoud Lamei : 100,000+\nNaruto & Boruto FR : 100+\nFrim: get new friends on local chat rooms : 5,000,000+\n"
    }
   ],
   "source": [
    "display_app_filter(android_clean, 0, 1, 5, 'SOCIAL')"
   ]
  },
  {
   "cell_type": "markdown",
   "metadata": {},
   "source": [
    "We can see from above that we have a similar case with Google Play store data set, where specific apps dominate and skews our data in these categories. Game genre is also really popular, but as noticed previously, both markets are saturated with gaming apps. Let's go ahead and explore the `BOOKS_AND_REFERENCE` category as it seems quite popular as well, and we found out that it is a potential profile for the iOS App Store."
   ]
  },
  {
   "cell_type": "code",
   "execution_count": 30,
   "metadata": {},
   "outputs": [
    {
     "output_type": "stream",
     "name": "stdout",
     "text": "E-Book Read - Read Book for free : 50,000+\nDownload free book with green book : 100,000+\nWikipedia : 10,000,000+\nCool Reader : 10,000,000+\nFree Panda Radio Music : 100,000+\nBook store : 1,000,000+\nFBReader: Favorite Book Reader : 10,000,000+\nEnglish Grammar Complete Handbook : 500,000+\nFree Books - Spirit Fanfiction and Stories : 1,000,000+\nGoogle Play Books : 1,000,000,000+\nAlReader -any text book reader : 5,000,000+\nOffline English Dictionary : 100,000+\nOffline: English to Tagalog Dictionary : 500,000+\nFamilySearch Tree : 1,000,000+\nCloud of Books : 1,000,000+\nRecipes of Prophetic Medicine for free : 500,000+\nReadEra – free ebook reader : 1,000,000+\nAnonymous caller detection : 10,000+\nEbook Reader : 5,000,000+\nLitnet - E-books : 100,000+\nRead books online : 5,000,000+\nEnglish to Urdu Dictionary : 500,000+\neBoox: book reader fb2 epub zip : 1,000,000+\nEnglish Persian Dictionary : 500,000+\nFlybook : 500,000+\nAll Maths Formulas : 1,000,000+\nAncestry : 5,000,000+\nHTC Help : 10,000,000+\nEnglish translation from Bengali : 100,000+\nPdf Book Download - Read Pdf Book : 100,000+\nFree Book Reader : 100,000+\neBoox new: Reader for fb2 epub zip books : 50,000+\nOnly 30 days in English, the guideline is guaranteed : 500,000+\nMoon+ Reader : 10,000,000+\nSH-02J Owner's Manual (Android 8.0) : 50,000+\nEnglish-Myanmar Dictionary : 1,000,000+\nGolden Dictionary (EN-AR) : 1,000,000+\nAll Language Translator Free : 1,000,000+\nAzpen eReader : 500,000+\nURBANO V 02 instruction manual : 100,000+\nBible : 100,000,000+\nC Programs and Reference : 50,000+\nC Offline Tutorial : 1,000+\nC Programs Handbook : 50,000+\nAmazon Kindle : 100,000,000+\nAab e Hayat Full Novel : 100,000+\nAldiko Book Reader : 10,000,000+\nGoogle I/O 2018 : 500,000+\nR Language Reference Guide : 10,000+\nLearn R Programming Full : 5,000+\nR Programing Offline Tutorial : 1,000+\nGuide for R Programming : 5+\nLearn R Programming : 10+\nR Quick Reference Big Data : 1,000+\nV Made : 100,000+\nWattpad 📖 Free Books : 100,000,000+\nDictionary - WordWeb : 5,000,000+\nGuide (for X-MEN) : 100,000+\nAC Air condition Troubleshoot,Repair,Maintenance : 5,000+\nAE Bulletins : 1,000+\nAe Allah na Dai (Rasa) : 10,000+\n50000 Free eBooks & Free AudioBooks : 5,000,000+\nAg PhD Field Guide : 10,000+\nAg PhD Deficiencies : 10,000+\nAg PhD Planting Population Calculator : 1,000+\nAg PhD Soybean Diseases : 1,000+\nFertilizer Removal By Crop : 50,000+\nA-J Media Vault : 50+\nAl-Quran (Free) : 10,000,000+\nAl Quran (Tafsir & by Word) : 500,000+\nAl Quran Indonesia : 10,000,000+\nAl'Quran Bahasa Indonesia : 10,000,000+\nAl Quran Al karim : 1,000,000+\nAl-Muhaffiz : 50,000+\nAl Quran : EAlim - Translations & MP3 Offline : 5,000,000+\nAl-Quran 30 Juz free copies : 500,000+\nKoran Read &MP3 30 Juz Offline : 1,000,000+\nHafizi Quran 15 lines per page : 1,000,000+\nQuran for Android : 10,000,000+\nSurah Al-Waqiah : 100,000+\nHisnul Al Muslim - Hisn Invocations & Adhkaar : 100,000+\nSatellite AR : 1,000,000+\nAudiobooks from Audible : 100,000,000+\nKinot & Eichah for Tisha B'Av : 10,000+\nAW Tozer Devotionals - Daily : 5,000+\nTozer Devotional -Series 1 : 1,000+\nThe Pursuit of God : 1,000+\nAY Sing : 5,000+\nAy Hasnain k Nana Milad Naat : 10,000+\nAy Mohabbat Teri Khatir Novel : 10,000+\nArizona Statutes, ARS (AZ Law) : 1,000+\nOxford A-Z of English Usage : 1,000,000+\nBD Fishpedia : 1,000+\nBD All Sim Offer : 10,000+\nYouboox - Livres, BD et magazines : 500,000+\nB&H Kids AR : 10,000+\nB y H Niños ES : 5,000+\nDictionary.com: Find Definitions for English Words : 10,000,000+\nEnglish Dictionary - Offline : 10,000,000+\nBible KJV : 5,000,000+\nBorneo Bible, BM Bible : 10,000+\nMOD Black for BM : 100+\nBM Box : 1,000+\nAnime Mod for BM : 100+\nNOOK: Read eBooks & Magazines : 10,000,000+\nNOOK Audiobooks : 500,000+\nNOOK App for NOOK Devices : 500,000+\nBrowsery by Barnes & Noble : 5,000+\nbp e-store : 1,000+\nBrilliant Quotes: Life, Love, Family & Motivation : 1,000,000+\nBR Ambedkar Biography & Quotes : 10,000+\nBU Alsace : 100+\nCatholic La Bu Zo Kam : 500+\nKhrifa Hla Bu (Solfa) : 10+\nKristian Hla Bu : 10,000+\nSA HLA BU : 1,000+\nLearn SAP BW : 500+\nLearn SAP BW on HANA : 500+\nCA Laws 2018 (California Laws and Codes) : 5,000+\nBootable Methods(USB-CD-DVD) : 10,000+\ncloudLibrary : 100,000+\nSDA Collegiate Quarterly : 500+\nSabbath School : 100,000+\nCypress College Library : 100+\nStats Royale for Clash Royale : 1,000,000+\nGATE 21 years CS Papers(2011-2018 Solved) : 50+\nLearn CT Scan Of Head : 5,000+\nEasy Cv maker 2018 : 10,000+\nHow to Write CV : 100,000+\nCW Nuclear : 1,000+\nCY Spray nozzle : 10+\nBibleRead En Cy Zh Yue : 5+\nCZ-Help : 5+\nModlitební knížka CZ : 500+\nGuide for DB Xenoverse : 10,000+\nGuide for DB Xenoverse 2 : 10,000+\nGuide for IMS DB : 10+\nDC HSEMA : 5,000+\nDC Public Library : 1,000+\nPainting Lulu DC Super Friends : 1,000+\nDictionary : 10,000,000+\nFix Error Google Playstore : 1,000+\nD. H. Lawrence Poems FREE : 1,000+\nBilingual Dictionary Audio App : 5,000+\nDM Screen : 10,000+\nwikiHow: how to do anything : 1,000,000+\nDr. Doug's Tips : 1,000+\nBible du Semeur-BDS (French) : 50,000+\nLa citadelle du musulman : 50,000+\nDV 2019 Entry Guide : 10,000+\nDV 2019 - EDV Photo & Form : 50,000+\nDV 2018 Winners Guide : 1,000+\nEB Annual Meetings : 1,000+\nEC - AP & Telangana : 5,000+\nTN Patta Citta & EC : 10,000+\nAP Stamps and Registration : 10,000+\nCompactiMa EC pH Calibration : 100+\nEGW Writings 2 : 100,000+\nEGW Writings : 1,000,000+\nBible with EGW Comments : 100,000+\nMy Little Pony AR Guide : 1,000,000+\nSDA Sabbath School Quarterly : 500,000+\nDuaa Ek Ibaadat : 5,000+\nSpanish English Translator : 10,000,000+\nDictionary - Merriam-Webster : 10,000,000+\nJW Library : 10,000,000+\nOxford Dictionary of English : Free : 10,000,000+\nEnglish Hindi Dictionary : 10,000,000+\nEnglish to Hindi Dictionary : 5,000,000+\nEP Research Service : 1,000+\nHymnes et Louanges : 100,000+\nEU Charter : 1,000+\nEU Data Protection : 1,000+\nEU IP Codes : 100+\nEW PDF : 5+\nBakaReader EX : 100,000+\nEZ Quran : 50,000+\nFA Part 1 & 2 Past Papers Solved Free – Offline : 5,000+\nLa Fe de Jesus : 1,000+\nLa Fe de Jesús : 500+\nLe Fe de Jesus : 500+\nFlorida - Pocket Brainbook : 1,000+\nFlorida Statutes (FL Code) : 1,000+\nEnglish To Shona Dictionary : 10,000+\nGreek Bible FP (Audio) : 1,000+\nGolden Dictionary (FR-AR) : 500,000+\nFanfic-FR : 5,000+\nBulgarian French Dictionary Fr : 10,000+\nChemin (fr) : 1,000+\nThe SCP Foundation DB fr nn5n : 1,000+\n"
    }
   ],
   "source": [
    "display_app_filter(android_clean, 0, 1, 5, 'BOOKS_AND_REFERENCE')"
   ]
  },
  {
   "cell_type": "markdown",
   "metadata": {},
   "source": [
    "We can see that most of the apps are e-book readers, as well as popular books such as the Bible, and a variety of Quran apps. It also includes several guides and programming language tutorials. Besides all these, we do notice some popular apps that skews the average, lets explore these."
   ]
  },
  {
   "cell_type": "code",
   "execution_count": 31,
   "metadata": {},
   "outputs": [
    {
     "output_type": "stream",
     "name": "stdout",
     "text": "Google Play Books : 1,000,000,000+\nBible : 100,000,000+\nAmazon Kindle : 100,000,000+\nWattpad 📖 Free Books : 100,000,000+\nAudiobooks from Audible : 100,000,000+\n"
    }
   ],
   "source": [
    "for app in android_clean:\n",
    "    if app[1] == 'BOOKS_AND_REFERENCE' and (app[5] == '1,000,000,000+'\n",
    "                                            or app[5] == '500,000,000+'\n",
    "                                            or app[5] == '100,000,000+'):\n",
    "        print(app[0], ':', app[5])"
   ]
  },
  {
   "cell_type": "markdown",
   "metadata": {},
   "source": [
    "We can see that there's only a few 'very' popular apps based on this, which are composed of e-book libraries and the Bible. With this information, we can say that the __Books__ genre is a potential candidate for our new app profile. Lets further explore this category in Google Play by getting our mid-range popular apps."
   ]
  },
  {
   "cell_type": "code",
   "execution_count": 32,
   "metadata": {},
   "outputs": [
    {
     "output_type": "stream",
     "name": "stdout",
     "text": "Wikipedia : 10,000,000+\nCool Reader : 10,000,000+\nBook store : 1,000,000+\nFBReader: Favorite Book Reader : 10,000,000+\nFree Books - Spirit Fanfiction and Stories : 1,000,000+\nAlReader -any text book reader : 5,000,000+\nFamilySearch Tree : 1,000,000+\nCloud of Books : 1,000,000+\nReadEra – free ebook reader : 1,000,000+\nEbook Reader : 5,000,000+\nRead books online : 5,000,000+\neBoox: book reader fb2 epub zip : 1,000,000+\nAll Maths Formulas: 1,000,000+\nAncestry : 5,000,000+\nHTC Help : 10,000,000+\nMoon+ Reader : 10,000,000+\nEnglish-Myanmar Dictionary : 1,000,000+\nGolden Dictionary (EN-AR) : 1,000,000+\nAll Language Translator Free : 1,000,000+\nAldiko Book Reader : 10,000,000+\nDictionary - WordWeb : 5,000,000+\n50000 Free eBooks & Free AudioBooks : 5,000,000+\nAl-Quran (Free) : 10,000,000+\nAl Quran Indonesia : 10,000,000+\nAl'Quran Bahasa Indonesia : 10,000,000+\nAl Quran Al karim : 1,000,000+\nAl Quran : EAlim - Translations & MP3 Offline : 5,000,000+\nKoran Read &MP3 30 Juz Offline : 1,000,000+\nHafizi Quran 15 lines per page : 1,000,000+\nQuran for Android : 10,000,000+\nSatellite AR : 1,000,000+\nOxford A-Z of English Usage : 1,000,000+\nDictionary.com: Find Definitions for English Words : 10,000,000+\nEnglish Dictionary - Offline : 10,000,000+\nBible KJV : 5,000,000+\nNOOK: Read eBooks & Magazines : 10,000,000+\nBrilliant Quotes: Life, Love, Family & Motivation : 1,000,000+\nStats Royale for Clash Royale : 1,000,000+\nDictionary : 10,000,000+\nwikiHow: how to do anything : 1,000,000+\nEGW Writings : 1,000,000+\nMy Little Pony AR Guide : 1,000,000+\nSpanish English Translator : 10,000,000+\nDictionary - Merriam-Webster : 10,000,000+\nJW Library : 10,000,000+\nOxford Dictionary of English : Free : 10,000,000+\nEnglish Hindi Dictionary : 10,000,000+\nEnglish to Hindi Dictionary : 5,000,000+\n"
    }
   ],
   "source": [
    "for app in android_clean:\n",
    "    if app[1] == 'BOOKS_AND_REFERENCE' and (app[5] == '1,000,000+'\n",
    "                                            or app[5] == '5,000,000+'\n",
    "                                            or app[5] == '10,000,000+'\n",
    "                                            or app[5] == '50,000,000+'):\n",
    "        print(app[0], ':', app[5])"
   ]
  },
  {
   "cell_type": "markdown",
   "metadata": {},
   "source": [
    "This niche seems to be dominated by apps used for e-books, as well as dictionaries and various libraries. It wouldn't be a good idea to build something similar to these. We also noticed several apps based on one single popular book, __Quran__. This tells us that building an app in one particular book or series can be profitable. Taking a popular or most recent book and build an app around it is a potential candidate for our app profile. We will need to build new features that will make it stand out against other apps since we already have several libraries in this niche. "
   ]
  },
  {
   "cell_type": "markdown",
   "metadata": {},
   "source": [
    "## Conclusions\n",
    "In this project, we analyzed two sample data sets that belongs to the Google Play Store and the Apple App Store. Our objective was to come up with an application profile that will be profitable in both markets, having the revenue based on ads as the app will be free and made for an english-speaking audience.\n",
    "\n",
    "We concluded that taking a popular, recent book or series and making an app around it could be profitable for both markets as long as it has special features that will make it more entertaining and stand out against the already existing libraries. Features such as daily quotes, quizzes, trivia, integrated forum or comments where people can discuss about the book, audio version, are some of the features can make our new app stand out and become really popular, therefore, profitable."
   ]
  }
 ],
 "metadata": {
  "language_info": {
   "codemirror_mode": {
    "name": "ipython",
    "version": 3
   },
   "file_extension": ".py",
   "mimetype": "text/x-python",
   "name": "python",
   "nbconvert_exporter": "python",
   "pygments_lexer": "ipython3",
   "version": "3.8.2-final"
  },
  "orig_nbformat": 2,
  "kernelspec": {
   "name": "python38264bit1ec64847437d483aae9fa1bf390663b3",
   "display_name": "Python 3.8.2 64-bit"
  }
 },
 "nbformat": 4,
 "nbformat_minor": 2
}